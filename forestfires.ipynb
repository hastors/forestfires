{
 "cells": [
  {
   "cell_type": "markdown",
   "id": "59884930",
   "metadata": {},
   "source": [
    "<table width=100%>\n",
    "<tr>\n",
    "    <td><h1 style=\"text-align: left; font-size:300%;\">\n",
    "        Forest Fires\n",
    "    </h1></td>\n",
    "    <td width=\"20%\">\n",
    "    <div style=\"text-align: right\">\n",
    "    <b> </b> <br>\n",
    "    <b>Forest Fire Analysis and Predictions<br>\n",
    "    Antonio Astorino <br>\n",
    "    <a href=\"mailto:antonio.as@hotmail.it\">antonio.as@hotmail.it</a><br>\n",
    "    </div>\n",
    "    </td>\n",
    "    </td>\n",
    "</tr>\n",
    "</table>"
   ]
  },
  {
   "cell_type": "code",
   "execution_count": 1,
   "id": "c0257bcb",
   "metadata": {},
   "outputs": [],
   "source": [
    "from IPython.core.interactiveshell import InteractiveShell\n",
    "InteractiveShell.ast_node_interactivity = \"all\"\n",
    "\n",
    "import matplotlib.pyplot as plt\n",
    "import seaborn as sns\n",
    "import pandas as pd\n",
    "import numpy as np\n",
    "import sklearn\n",
    "import scipy\n",
    "\n",
    "np.random.seed(0)"
   ]
  },
  {
   "cell_type": "markdown",
   "id": "38d6f71f",
   "metadata": {},
   "source": [
    "<p><strong>Main Goal</strong></p>The main goal of my analysis is to predict the burned area of forest fires using the data on the dataset. \n",
    "\n",
    "<p><strong>Disclaimer</strong></p> I run several tests on this dataset, in order to make the notebook light and readable, I won't show every result I obtained . Everytime I will refer to results on tests that are not shown, I will write them betweeen a ¶. I also used the lab code provided."
   ]
  },
  {
   "cell_type": "code",
   "execution_count": null,
   "id": "e6a79cd2",
   "metadata": {},
   "outputs": [],
   "source": [
    "#Import the dataset\n",
    "fire = pd.read_csv(\"/Users/hastors/forestfires/data/forestfires1.csv\")"
   ]
  },
  {
   "cell_type": "markdown",
   "id": "a54ce3a0",
   "metadata": {},
   "source": [
    "## Explore the data"
   ]
  },
  {
   "cell_type": "code",
   "execution_count": 3,
   "id": "8d70f73a",
   "metadata": {},
   "outputs": [
    {
     "name": "stdout",
     "output_type": "stream",
     "text": [
      "<class 'pandas.core.frame.DataFrame'>\n",
      "RangeIndex: 517 entries, 0 to 516\n",
      "Data columns (total 13 columns):\n",
      " #   Column  Non-Null Count  Dtype  \n",
      "---  ------  --------------  -----  \n",
      " 0   X       517 non-null    int64  \n",
      " 1   Y       517 non-null    int64  \n",
      " 2   month   517 non-null    object \n",
      " 3   day     517 non-null    object \n",
      " 4   FFMC    517 non-null    object \n",
      " 5   DMC     517 non-null    float64\n",
      " 6   DC      517 non-null    object \n",
      " 7   ISI     517 non-null    object \n",
      " 8   temp    517 non-null    object \n",
      " 9   RH      517 non-null    int64  \n",
      " 10  wind    517 non-null    object \n",
      " 11  rain    517 non-null    float64\n",
      " 12  area    517 non-null    float64\n",
      "dtypes: float64(3), int64(3), object(7)\n",
      "memory usage: 52.6+ KB\n"
     ]
    }
   ],
   "source": [
    "fire.info()"
   ]
  },
  {
   "cell_type": "markdown",
   "id": "bfd8dd0a",
   "metadata": {},
   "source": [
    "The dataset consists in 13 columns. First of all I convert the non-numeric variables into numeric variables. Then, later on, I will encode the only two categorical variables ('month' and 'day') "
   ]
  },
  {
   "cell_type": "code",
   "execution_count": 4,
   "id": "90714fc7",
   "metadata": {},
   "outputs": [],
   "source": [
    "# 'Missing' strigs treated as nan\n",
    "fire['FFMC'] = pd.to_numeric(fire['FFMC'], errors='coerce')\n",
    "fire['DC'] = pd.to_numeric(fire['DC'], errors='coerce')\n",
    "fire['ISI'] = pd.to_numeric(fire['ISI'], errors='coerce')\n",
    "fire['temp'] = pd.to_numeric(fire['temp'], errors='coerce')\n",
    "fire['wind'] = pd.to_numeric(fire['wind'], errors='coerce')"
   ]
  },
  {
   "cell_type": "code",
   "execution_count": 5,
   "id": "00881a16",
   "metadata": {},
   "outputs": [
    {
     "data": {
      "text/plain": [
       "X        0\n",
       "Y        0\n",
       "month    0\n",
       "day      0\n",
       "FFMC     1\n",
       "DMC      0\n",
       "DC       1\n",
       "ISI      2\n",
       "temp     2\n",
       "RH       0\n",
       "wind     1\n",
       "rain     0\n",
       "area     0\n",
       "dtype: int64"
      ]
     },
     "execution_count": 5,
     "metadata": {},
     "output_type": "execute_result"
    },
    {
     "data": {
      "text/plain": [
       "7"
      ]
     },
     "execution_count": 5,
     "metadata": {},
     "output_type": "execute_result"
    }
   ],
   "source": [
    "#Checking for the null values\n",
    "fire.isna().sum()\n",
    "fire.isna().sum().sum()"
   ]
  },
  {
   "cell_type": "code",
   "execution_count": 6,
   "id": "e379a39b",
   "metadata": {},
   "outputs": [],
   "source": [
    "# We can safetly remove these missing values since they're not so many. In fact they are only 7.\n",
    "fire.dropna(inplace = True)"
   ]
  },
  {
   "cell_type": "code",
   "execution_count": 7,
   "id": "9d71725a",
   "metadata": {},
   "outputs": [
    {
     "data": {
      "text/plain": [
       "array([[<AxesSubplot:ylabel='Density'>, <AxesSubplot:ylabel='Density'>,\n",
       "        <AxesSubplot:ylabel='Density'>, <AxesSubplot:ylabel='Density'>,\n",
       "        <AxesSubplot:ylabel='Density'>, <AxesSubplot:ylabel='Density'>],\n",
       "       [<AxesSubplot:ylabel='Density'>, <AxesSubplot:ylabel='Density'>,\n",
       "        <AxesSubplot:ylabel='Density'>, <AxesSubplot:ylabel='Density'>,\n",
       "        <AxesSubplot:ylabel='Density'>, <AxesSubplot:ylabel='Density'>],\n",
       "       [<AxesSubplot:ylabel='Density'>, <AxesSubplot:ylabel='Density'>,\n",
       "        <AxesSubplot:ylabel='Density'>, <AxesSubplot:ylabel='Density'>,\n",
       "        <AxesSubplot:ylabel='Density'>, <AxesSubplot:ylabel='Density'>],\n",
       "       [<AxesSubplot:ylabel='Density'>, <AxesSubplot:ylabel='Density'>,\n",
       "        <AxesSubplot:ylabel='Density'>, <AxesSubplot:ylabel='Density'>,\n",
       "        <AxesSubplot:ylabel='Density'>, <AxesSubplot:ylabel='Density'>],\n",
       "       [<AxesSubplot:ylabel='Density'>, <AxesSubplot:ylabel='Density'>,\n",
       "        <AxesSubplot:ylabel='Density'>, <AxesSubplot:ylabel='Density'>,\n",
       "        <AxesSubplot:ylabel='Density'>, <AxesSubplot:ylabel='Density'>],\n",
       "       [<AxesSubplot:ylabel='Density'>, <AxesSubplot:ylabel='Density'>,\n",
       "        <AxesSubplot:ylabel='Density'>, <AxesSubplot:ylabel='Density'>,\n",
       "        <AxesSubplot:ylabel='Density'>, <AxesSubplot:ylabel='Density'>]],\n",
       "      dtype=object)"
      ]
     },
     "execution_count": 7,
     "metadata": {},
     "output_type": "execute_result"
    },
    {
     "data": {
      "image/png": "[encoded data removed]",
      "text/plain": [
       "<Figure size 1080x720 with 36 Axes>"
      ]
     },
     "metadata": {
      "needs_background": "light"
     },
     "output_type": "display_data"
    }
   ],
   "source": [
    "#check the approximate distributions\n",
    "fire.plot(kind='density', subplots=True, layout=(6,6), figsize=(15,10), sharex=False, sharey=False)"
   ]
  },
  {
   "cell_type": "code",
   "execution_count": 8,
   "id": "1faece34",
   "metadata": {},
   "outputs": [
    {
     "data": {
      "text/plain": [
       "array([[<AxesSubplot:title={'center':'X'}>,\n",
       "        <AxesSubplot:title={'center':'Y'}>,\n",
       "        <AxesSubplot:title={'center':'FFMC'}>],\n",
       "       [<AxesSubplot:title={'center':'DMC'}>,\n",
       "        <AxesSubplot:title={'center':'DC'}>,\n",
       "        <AxesSubplot:title={'center':'ISI'}>],\n",
       "       [<AxesSubplot:title={'center':'temp'}>,\n",
       "        <AxesSubplot:title={'center':'RH'}>,\n",
       "        <AxesSubplot:title={'center':'wind'}>],\n",
       "       [<AxesSubplot:title={'center':'rain'}>,\n",
       "        <AxesSubplot:title={'center':'area'}>, <AxesSubplot:>]],\n",
       "      dtype=object)"
      ]
     },
     "execution_count": 8,
     "metadata": {},
     "output_type": "execute_result"
    },
    {
     "data": {
      "image/png": "[encoded data removed]",
      "text/plain": [
       "<Figure size 1080x720 with 12 Axes>"
      ]
     },
     "metadata": {
      "needs_background": "light"
     },
     "output_type": "display_data"
    }
   ],
   "source": [
    "#visualizing distributions \n",
    "fire.hist(bins=50, figsize=(15,10), ec='w')\n",
    "plt.show()"
   ]
  },
  {
   "cell_type": "markdown",
   "id": "118f80ef",
   "metadata": {},
   "source": [
    "Here we can notice that data have extreme outliers, but i can't remove them because I don't know if they are a result of data entry error and if they affect the assumptions on my models.  "
   ]
  },
  {
   "cell_type": "markdown",
   "id": "29a81a7f",
   "metadata": {},
   "source": [
    "Before transform the categorical values let's just have a look on them"
   ]
  },
  {
   "cell_type": "code",
   "execution_count": 10,
   "id": "30cdc5b5",
   "metadata": {},
   "outputs": [
    {
     "name": "stdout",
     "output_type": "stream",
     "text": [
      "months\n",
      "aug    180\n",
      "sep    171\n",
      "mar     53\n",
      "jul     32\n",
      "feb     20\n",
      "jun     17\n",
      "oct     14\n",
      "apr      9\n",
      "dec      9\n",
      "jan      2\n",
      "may      2\n",
      "nov      1\n",
      "Name: month, dtype: int64\n",
      "\n",
      "\n",
      "days\n",
      "sun    93\n",
      "fri    84\n",
      "sat    81\n",
      "mon    73\n",
      "tue    64\n",
      "thu    61\n",
      "wed    54\n",
      "Name: day, dtype: int64\n"
     ]
    }
   ],
   "source": [
    "#Let's see how the records are distributed among the time\n",
    "print('months', fire.month.value_counts(), sep='\\n')\n",
    "print('\\n')\n",
    "print('days', fire.day.value_counts(), sep='\\n')"
   ]
  },
  {
   "cell_type": "code",
   "execution_count": 11,
   "id": "77c32012",
   "metadata": {},
   "outputs": [
    {
     "data": {
      "text/plain": [
       "<AxesSubplot:>"
      ]
     },
     "execution_count": 11,
     "metadata": {},
     "output_type": "execute_result"
    },
    {
     "data": {
      "text/plain": [
       "Text(0.5, 1.0, 'Fires per month')"
      ]
     },
     "execution_count": 11,
     "metadata": {},
     "output_type": "execute_result"
    },
    {
     "data": {
      "image/png": "[encoded data removed]",
      "text/plain": [
       "<Figure size 432x288 with 1 Axes>"
      ]
     },
     "metadata": {
      "needs_background": "light"
     },
     "output_type": "display_data"
    }
   ],
   "source": [
    "fire.month.value_counts(normalize=True).plot.bar()\n",
    "plt.title('Fires per month')"
   ]
  },
  {
   "cell_type": "code",
   "execution_count": 12,
   "id": "1f63e9b9",
   "metadata": {},
   "outputs": [
    {
     "data": {
      "text/plain": [
       "<AxesSubplot:>"
      ]
     },
     "execution_count": 12,
     "metadata": {},
     "output_type": "execute_result"
    },
    {
     "data": {
      "text/plain": [
       "Text(0.5, 1.0, 'Fires per day')"
      ]
     },
     "execution_count": 12,
     "metadata": {},
     "output_type": "execute_result"
    },
    {
     "data": {
      "image/png": "[encoded data removed]",
      "text/plain": [
       "<Figure size 432x288 with 1 Axes>"
      ]
     },
     "metadata": {
      "needs_background": "light"
     },
     "output_type": "display_data"
    }
   ],
   "source": [
    "fire.day.value_counts(normalize=True).plot.bar()\n",
    "plt.title('Fires per day')"
   ]
  },
  {
   "cell_type": "markdown",
   "id": "4dcb683f",
   "metadata": {},
   "source": [
    "We can see that, regarding the days, the records are slighty higher in the weekend than during the week \n",
    "(wed is the less recorded day). That's may suggest that the non working days (tourism/camping phenomena) \n",
    "could be a risk factor. \n",
    "About the months. \n",
    "As we can imagine, the most recorded are the dry months in the end of the summer (August and September). \n",
    "This confirms that weather factors are crucial, but we have to not forget that those are also the most\n",
    "taken vacations months. \n",
    "\n",
    "We can also notice that there are months with just 1-2 records (nov, may, jan) that, despite the weather condition, we can maybe delete or ignore for our computations since, among the others, they have a very small impact.\n",
    "\n",
    "¶Removing these 3 months has no impact on the analysis¶\n",
    "\n",
    "\n"
   ]
  },
  {
   "cell_type": "markdown",
   "id": "f05ab117",
   "metadata": {},
   "source": [
    "Since the area is our response variable, I want to look at it."
   ]
  },
  {
   "cell_type": "code",
   "execution_count": 13,
   "id": "7a8f522c",
   "metadata": {},
   "outputs": [
    {
     "name": "stdout",
     "output_type": "stream",
     "text": [
      "0.00      240\n",
      "1.94        3\n",
      "0.52        2\n",
      "3.71        2\n",
      "0.68        2\n",
      "         ... \n",
      "105.66      1\n",
      "154.88      1\n",
      "196.48      1\n",
      "200.94      1\n",
      "11.16       1\n",
      "Name: area, Length: 251, dtype: int64\n"
     ]
    },
    {
     "data": {
      "text/plain": [
       "(array([501.,   6.,   1.,   0.,   0.,   0.,   1.,   0.,   0.,   1.]),\n",
       " array([   0.   ,  109.084,  218.168,  327.252,  436.336,  545.42 ,\n",
       "         654.504,  763.588,  872.672,  981.756, 1090.84 ]),\n",
       " <BarContainer object of 10 artists>)"
      ]
     },
     "execution_count": 13,
     "metadata": {},
     "output_type": "execute_result"
    },
    {
     "data": {
      "text/plain": [
       "Text(0.5, 1.0, 'Area Distribution')"
      ]
     },
     "execution_count": 13,
     "metadata": {},
     "output_type": "execute_result"
    },
    {
     "data": {
      "image/png": "[encoded data removed]",
      "text/plain": [
       "<Figure size 432x288 with 1 Axes>"
      ]
     },
     "metadata": {
      "needs_background": "light"
     },
     "output_type": "display_data"
    }
   ],
   "source": [
    "#As we can see here the smallest fires (the ones with 0 value) are the most recorded, and \n",
    "#its distribution is centered in 0.\n",
    "\n",
    "#We can count them\n",
    "count = fire['area'].value_counts()\n",
    "print(count)\n",
    "#And plot\n",
    "plt.hist(fire.area)\n",
    "plt.title('Area Distribution')"
   ]
  },
  {
   "cell_type": "markdown",
   "id": "2a943f66",
   "metadata": {},
   "source": [
    "All these zeros may be a problem for the model. To have a better distribution, I normalize with a logarithm.\n",
    "\n",
    "¶ This will have a positive effect on the feature selection, and also in the linear regression. In particular, in linear regression, the raw data (with same CI) reject the variable 'DC' (which is reasonable). The log one, instead, reject the 'wind' with better values (best model I've obtained)¶\n",
    "\n"
   ]
  },
  {
   "cell_type": "code",
   "execution_count": 14,
   "id": "23209068",
   "metadata": {},
   "outputs": [],
   "source": [
    "#I use the logarithm function y = ln(x + 1)\n",
    "fire['area'] = np.log1p(fire['area'])"
   ]
  },
  {
   "cell_type": "code",
   "execution_count": 15,
   "id": "e51dac65",
   "metadata": {},
   "outputs": [
    {
     "data": {
      "text/html": [
       "<div>\n",
       "<style scoped>\n",
       "    .dataframe tbody tr th:only-of-type {\n",
       "        vertical-align: middle;\n",
       "    }\n",
       "\n",
       "    .dataframe tbody tr th {\n",
       "        vertical-align: top;\n",
       "    }\n",
       "\n",
       "    .dataframe thead th {\n",
       "        text-align: right;\n",
       "    }\n",
       "</style>\n",
       "<table border=\"1\" class=\"dataframe\">\n",
       "  <thead>\n",
       "    <tr style=\"text-align: right;\">\n",
       "      <th></th>\n",
       "      <th>X</th>\n",
       "      <th>Y</th>\n",
       "      <th>FFMC</th>\n",
       "      <th>DMC</th>\n",
       "      <th>DC</th>\n",
       "      <th>ISI</th>\n",
       "      <th>temp</th>\n",
       "      <th>RH</th>\n",
       "      <th>wind</th>\n",
       "      <th>rain</th>\n",
       "      <th>area</th>\n",
       "    </tr>\n",
       "  </thead>\n",
       "  <tbody>\n",
       "    <tr>\n",
       "      <th>X</th>\n",
       "      <td>1.000000</td>\n",
       "      <td>0.493283</td>\n",
       "      <td>-0.063374</td>\n",
       "      <td>-0.081422</td>\n",
       "      <td>-0.074421</td>\n",
       "      <td>-0.011041</td>\n",
       "      <td>-0.054645</td>\n",
       "      <td>0.068922</td>\n",
       "      <td>0.022796</td>\n",
       "      <td>0.111390</td>\n",
       "      <td>0.068903</td>\n",
       "    </tr>\n",
       "    <tr>\n",
       "      <th>Y</th>\n",
       "      <td>0.493283</td>\n",
       "      <td>1.000000</td>\n",
       "      <td>-0.017597</td>\n",
       "      <td>-0.000272</td>\n",
       "      <td>-0.106566</td>\n",
       "      <td>-0.019990</td>\n",
       "      <td>-0.043343</td>\n",
       "      <td>0.046805</td>\n",
       "      <td>-0.012029</td>\n",
       "      <td>0.079715</td>\n",
       "      <td>0.047177</td>\n",
       "    </tr>\n",
       "    <tr>\n",
       "      <th>FFMC</th>\n",
       "      <td>-0.063374</td>\n",
       "      <td>-0.017597</td>\n",
       "      <td>1.000000</td>\n",
       "      <td>0.509218</td>\n",
       "      <td>0.257692</td>\n",
       "      <td>0.783789</td>\n",
       "      <td>0.594127</td>\n",
       "      <td>-0.324048</td>\n",
       "      <td>-0.028458</td>\n",
       "      <td>0.097921</td>\n",
       "      <td>0.024682</td>\n",
       "    </tr>\n",
       "    <tr>\n",
       "      <th>DMC</th>\n",
       "      <td>-0.081422</td>\n",
       "      <td>-0.000272</td>\n",
       "      <td>0.509218</td>\n",
       "      <td>1.000000</td>\n",
       "      <td>0.558270</td>\n",
       "      <td>0.424849</td>\n",
       "      <td>0.503870</td>\n",
       "      <td>0.029342</td>\n",
       "      <td>-0.109054</td>\n",
       "      <td>0.121556</td>\n",
       "      <td>0.074060</td>\n",
       "    </tr>\n",
       "    <tr>\n",
       "      <th>DC</th>\n",
       "      <td>-0.074421</td>\n",
       "      <td>-0.106566</td>\n",
       "      <td>0.257692</td>\n",
       "      <td>0.558270</td>\n",
       "      <td>1.000000</td>\n",
       "      <td>0.100761</td>\n",
       "      <td>0.307481</td>\n",
       "      <td>0.025962</td>\n",
       "      <td>-0.199402</td>\n",
       "      <td>0.008105</td>\n",
       "      <td>0.060382</td>\n",
       "    </tr>\n",
       "    <tr>\n",
       "      <th>ISI</th>\n",
       "      <td>-0.011041</td>\n",
       "      <td>-0.019990</td>\n",
       "      <td>0.783789</td>\n",
       "      <td>0.424849</td>\n",
       "      <td>0.100761</td>\n",
       "      <td>1.000000</td>\n",
       "      <td>0.411386</td>\n",
       "      <td>-0.174655</td>\n",
       "      <td>0.143856</td>\n",
       "      <td>0.118499</td>\n",
       "      <td>0.012638</td>\n",
       "    </tr>\n",
       "    <tr>\n",
       "      <th>temp</th>\n",
       "      <td>-0.054645</td>\n",
       "      <td>-0.043343</td>\n",
       "      <td>0.594127</td>\n",
       "      <td>0.503870</td>\n",
       "      <td>0.307481</td>\n",
       "      <td>0.411386</td>\n",
       "      <td>1.000000</td>\n",
       "      <td>-0.518425</td>\n",
       "      <td>-0.174771</td>\n",
       "      <td>0.026136</td>\n",
       "      <td>0.080073</td>\n",
       "    </tr>\n",
       "    <tr>\n",
       "      <th>RH</th>\n",
       "      <td>0.068922</td>\n",
       "      <td>0.046805</td>\n",
       "      <td>-0.324048</td>\n",
       "      <td>0.029342</td>\n",
       "      <td>0.025962</td>\n",
       "      <td>-0.174655</td>\n",
       "      <td>-0.518425</td>\n",
       "      <td>1.000000</td>\n",
       "      <td>0.033943</td>\n",
       "      <td>0.181923</td>\n",
       "      <td>-0.027904</td>\n",
       "    </tr>\n",
       "    <tr>\n",
       "      <th>wind</th>\n",
       "      <td>0.022796</td>\n",
       "      <td>-0.012029</td>\n",
       "      <td>-0.028458</td>\n",
       "      <td>-0.109054</td>\n",
       "      <td>-0.199402</td>\n",
       "      <td>0.143856</td>\n",
       "      <td>-0.174771</td>\n",
       "      <td>0.033943</td>\n",
       "      <td>1.000000</td>\n",
       "      <td>0.122531</td>\n",
       "      <td>0.061402</td>\n",
       "    </tr>\n",
       "    <tr>\n",
       "      <th>rain</th>\n",
       "      <td>0.111390</td>\n",
       "      <td>0.079715</td>\n",
       "      <td>0.097921</td>\n",
       "      <td>0.121556</td>\n",
       "      <td>0.008105</td>\n",
       "      <td>0.118499</td>\n",
       "      <td>0.026136</td>\n",
       "      <td>0.181923</td>\n",
       "      <td>0.122531</td>\n",
       "      <td>1.000000</td>\n",
       "      <td>-0.066020</td>\n",
       "    </tr>\n",
       "    <tr>\n",
       "      <th>area</th>\n",
       "      <td>0.068903</td>\n",
       "      <td>0.047177</td>\n",
       "      <td>0.024682</td>\n",
       "      <td>0.074060</td>\n",
       "      <td>0.060382</td>\n",
       "      <td>0.012638</td>\n",
       "      <td>0.080073</td>\n",
       "      <td>-0.027904</td>\n",
       "      <td>0.061402</td>\n",
       "      <td>-0.066020</td>\n",
       "      <td>1.000000</td>\n",
       "    </tr>\n",
       "  </tbody>\n",
       "</table>\n",
       "</div>"
      ],
      "text/plain": [
       "             X         Y      FFMC       DMC        DC       ISI      temp  \\\n",
       "X     1.000000  0.493283 -0.063374 -0.081422 -0.074421 -0.011041 -0.054645   \n",
       "Y     0.493283  1.000000 -0.017597 -0.000272 -0.106566 -0.019990 -0.043343   \n",
       "FFMC -0.063374 -0.017597  1.000000  0.509218  0.257692  0.783789  0.594127   \n",
       "DMC  -0.081422 -0.000272  0.509218  1.000000  0.558270  0.424849  0.503870   \n",
       "DC   -0.074421 -0.106566  0.257692  0.558270  1.000000  0.100761  0.307481   \n",
       "ISI  -0.011041 -0.019990  0.783789  0.424849  0.100761  1.000000  0.411386   \n",
       "temp -0.054645 -0.043343  0.594127  0.503870  0.307481  0.411386  1.000000   \n",
       "RH    0.068922  0.046805 -0.324048  0.029342  0.025962 -0.174655 -0.518425   \n",
       "wind  0.022796 -0.012029 -0.028458 -0.109054 -0.199402  0.143856 -0.174771   \n",
       "rain  0.111390  0.079715  0.097921  0.121556  0.008105  0.118499  0.026136   \n",
       "area  0.068903  0.047177  0.024682  0.074060  0.060382  0.012638  0.080073   \n",
       "\n",
       "            RH      wind      rain      area  \n",
       "X     0.068922  0.022796  0.111390  0.068903  \n",
       "Y     0.046805 -0.012029  0.079715  0.047177  \n",
       "FFMC -0.324048 -0.028458  0.097921  0.024682  \n",
       "DMC   0.029342 -0.109054  0.121556  0.074060  \n",
       "DC    0.025962 -0.199402  0.008105  0.060382  \n",
       "ISI  -0.174655  0.143856  0.118499  0.012638  \n",
       "temp -0.518425 -0.174771  0.026136  0.080073  \n",
       "RH    1.000000  0.033943  0.181923 -0.027904  \n",
       "wind  0.033943  1.000000  0.122531  0.061402  \n",
       "rain  0.181923  0.122531  1.000000 -0.066020  \n",
       "area -0.027904  0.061402 -0.066020  1.000000  "
      ]
     },
     "execution_count": 15,
     "metadata": {},
     "output_type": "execute_result"
    }
   ],
   "source": [
    "#Correlation matrix\n",
    "corr_matrix = fire.corr(method='spearman')\n",
    "corr_matrix"
   ]
  },
  {
   "cell_type": "code",
   "execution_count": 16,
   "id": "f4708356",
   "metadata": {},
   "outputs": [
    {
     "name": "stdout",
     "output_type": "stream",
     "text": [
      "[ 0.06903548  0.04035975  0.04835065  0.06860338  0.06701331 -0.00962443\n",
      "  0.05519643 -0.05721455  0.07158136  0.02261075  1.        ]\n"
     ]
    },
    {
     "data": {
      "text/plain": [
       "<AxesSubplot:>"
      ]
     },
     "execution_count": 16,
     "metadata": {},
     "output_type": "execute_result"
    },
    {
     "data": {
      "image/png": "[encoded data removed]",
      "text/plain": [
       "<Figure size 432x288 with 2 Axes>"
      ]
     },
     "metadata": {
      "needs_background": "light"
     },
     "output_type": "display_data"
    }
   ],
   "source": [
    "#Correlation map\n",
    "#There are no (high) significative correlations between the data.\n",
    "print(fire.corr().to_numpy()[:,-1])\n",
    "sns.heatmap(fire.corr())"
   ]
  },
  {
   "cell_type": "code",
   "execution_count": 17,
   "id": "9dff587f",
   "metadata": {},
   "outputs": [
    {
     "data": {
      "text/html": [
       "<div>\n",
       "<style scoped>\n",
       "    .dataframe tbody tr th:only-of-type {\n",
       "        vertical-align: middle;\n",
       "    }\n",
       "\n",
       "    .dataframe tbody tr th {\n",
       "        vertical-align: top;\n",
       "    }\n",
       "\n",
       "    .dataframe thead th {\n",
       "        text-align: right;\n",
       "    }\n",
       "</style>\n",
       "<table border=\"1\" class=\"dataframe\">\n",
       "  <thead>\n",
       "    <tr style=\"text-align: right;\">\n",
       "      <th></th>\n",
       "      <th>X</th>\n",
       "      <th>Y</th>\n",
       "      <th>FFMC</th>\n",
       "      <th>DMC</th>\n",
       "      <th>DC</th>\n",
       "      <th>ISI</th>\n",
       "      <th>temp</th>\n",
       "      <th>RH</th>\n",
       "      <th>wind</th>\n",
       "      <th>rain</th>\n",
       "      <th>...</th>\n",
       "      <th>month_nov</th>\n",
       "      <th>month_oct</th>\n",
       "      <th>month_sep</th>\n",
       "      <th>day_fri</th>\n",
       "      <th>day_mon</th>\n",
       "      <th>day_sat</th>\n",
       "      <th>day_sun</th>\n",
       "      <th>day_thu</th>\n",
       "      <th>day_tue</th>\n",
       "      <th>day_wed</th>\n",
       "    </tr>\n",
       "  </thead>\n",
       "  <tbody>\n",
       "    <tr>\n",
       "      <th>0</th>\n",
       "      <td>7</td>\n",
       "      <td>5</td>\n",
       "      <td>86.2</td>\n",
       "      <td>26.2</td>\n",
       "      <td>94.3</td>\n",
       "      <td>5.1</td>\n",
       "      <td>8.2</td>\n",
       "      <td>51</td>\n",
       "      <td>6.7</td>\n",
       "      <td>0.0</td>\n",
       "      <td>...</td>\n",
       "      <td>0.0</td>\n",
       "      <td>0.0</td>\n",
       "      <td>0.0</td>\n",
       "      <td>1.0</td>\n",
       "      <td>0.0</td>\n",
       "      <td>0.0</td>\n",
       "      <td>0.0</td>\n",
       "      <td>0.0</td>\n",
       "      <td>0.0</td>\n",
       "      <td>0.0</td>\n",
       "    </tr>\n",
       "    <tr>\n",
       "      <th>1</th>\n",
       "      <td>7</td>\n",
       "      <td>4</td>\n",
       "      <td>90.6</td>\n",
       "      <td>35.4</td>\n",
       "      <td>669.1</td>\n",
       "      <td>6.7</td>\n",
       "      <td>18.0</td>\n",
       "      <td>33</td>\n",
       "      <td>0.9</td>\n",
       "      <td>0.0</td>\n",
       "      <td>...</td>\n",
       "      <td>0.0</td>\n",
       "      <td>1.0</td>\n",
       "      <td>0.0</td>\n",
       "      <td>0.0</td>\n",
       "      <td>0.0</td>\n",
       "      <td>0.0</td>\n",
       "      <td>0.0</td>\n",
       "      <td>0.0</td>\n",
       "      <td>1.0</td>\n",
       "      <td>0.0</td>\n",
       "    </tr>\n",
       "    <tr>\n",
       "      <th>2</th>\n",
       "      <td>7</td>\n",
       "      <td>4</td>\n",
       "      <td>90.6</td>\n",
       "      <td>43.7</td>\n",
       "      <td>686.9</td>\n",
       "      <td>6.7</td>\n",
       "      <td>14.6</td>\n",
       "      <td>33</td>\n",
       "      <td>1.3</td>\n",
       "      <td>0.0</td>\n",
       "      <td>...</td>\n",
       "      <td>0.0</td>\n",
       "      <td>1.0</td>\n",
       "      <td>0.0</td>\n",
       "      <td>0.0</td>\n",
       "      <td>0.0</td>\n",
       "      <td>1.0</td>\n",
       "      <td>0.0</td>\n",
       "      <td>0.0</td>\n",
       "      <td>0.0</td>\n",
       "      <td>0.0</td>\n",
       "    </tr>\n",
       "    <tr>\n",
       "      <th>3</th>\n",
       "      <td>8</td>\n",
       "      <td>6</td>\n",
       "      <td>91.7</td>\n",
       "      <td>33.3</td>\n",
       "      <td>77.5</td>\n",
       "      <td>9.0</td>\n",
       "      <td>8.3</td>\n",
       "      <td>97</td>\n",
       "      <td>4.0</td>\n",
       "      <td>0.2</td>\n",
       "      <td>...</td>\n",
       "      <td>0.0</td>\n",
       "      <td>0.0</td>\n",
       "      <td>0.0</td>\n",
       "      <td>1.0</td>\n",
       "      <td>0.0</td>\n",
       "      <td>0.0</td>\n",
       "      <td>0.0</td>\n",
       "      <td>0.0</td>\n",
       "      <td>0.0</td>\n",
       "      <td>0.0</td>\n",
       "    </tr>\n",
       "    <tr>\n",
       "      <th>4</th>\n",
       "      <td>8</td>\n",
       "      <td>6</td>\n",
       "      <td>89.3</td>\n",
       "      <td>51.3</td>\n",
       "      <td>102.2</td>\n",
       "      <td>9.6</td>\n",
       "      <td>11.4</td>\n",
       "      <td>99</td>\n",
       "      <td>1.8</td>\n",
       "      <td>0.0</td>\n",
       "      <td>...</td>\n",
       "      <td>0.0</td>\n",
       "      <td>0.0</td>\n",
       "      <td>0.0</td>\n",
       "      <td>0.0</td>\n",
       "      <td>0.0</td>\n",
       "      <td>0.0</td>\n",
       "      <td>1.0</td>\n",
       "      <td>0.0</td>\n",
       "      <td>0.0</td>\n",
       "      <td>0.0</td>\n",
       "    </tr>\n",
       "    <tr>\n",
       "      <th>...</th>\n",
       "      <td>...</td>\n",
       "      <td>...</td>\n",
       "      <td>...</td>\n",
       "      <td>...</td>\n",
       "      <td>...</td>\n",
       "      <td>...</td>\n",
       "      <td>...</td>\n",
       "      <td>...</td>\n",
       "      <td>...</td>\n",
       "      <td>...</td>\n",
       "      <td>...</td>\n",
       "      <td>...</td>\n",
       "      <td>...</td>\n",
       "      <td>...</td>\n",
       "      <td>...</td>\n",
       "      <td>...</td>\n",
       "      <td>...</td>\n",
       "      <td>...</td>\n",
       "      <td>...</td>\n",
       "      <td>...</td>\n",
       "      <td>...</td>\n",
       "    </tr>\n",
       "    <tr>\n",
       "      <th>512</th>\n",
       "      <td>4</td>\n",
       "      <td>3</td>\n",
       "      <td>81.6</td>\n",
       "      <td>56.7</td>\n",
       "      <td>665.6</td>\n",
       "      <td>1.9</td>\n",
       "      <td>27.8</td>\n",
       "      <td>32</td>\n",
       "      <td>2.7</td>\n",
       "      <td>0.0</td>\n",
       "      <td>...</td>\n",
       "      <td>0.0</td>\n",
       "      <td>0.0</td>\n",
       "      <td>0.0</td>\n",
       "      <td>0.0</td>\n",
       "      <td>0.0</td>\n",
       "      <td>0.0</td>\n",
       "      <td>1.0</td>\n",
       "      <td>0.0</td>\n",
       "      <td>0.0</td>\n",
       "      <td>0.0</td>\n",
       "    </tr>\n",
       "    <tr>\n",
       "      <th>513</th>\n",
       "      <td>2</td>\n",
       "      <td>4</td>\n",
       "      <td>81.6</td>\n",
       "      <td>56.7</td>\n",
       "      <td>665.6</td>\n",
       "      <td>1.9</td>\n",
       "      <td>21.9</td>\n",
       "      <td>71</td>\n",
       "      <td>5.8</td>\n",
       "      <td>0.0</td>\n",
       "      <td>...</td>\n",
       "      <td>0.0</td>\n",
       "      <td>0.0</td>\n",
       "      <td>0.0</td>\n",
       "      <td>0.0</td>\n",
       "      <td>0.0</td>\n",
       "      <td>0.0</td>\n",
       "      <td>1.0</td>\n",
       "      <td>0.0</td>\n",
       "      <td>0.0</td>\n",
       "      <td>0.0</td>\n",
       "    </tr>\n",
       "    <tr>\n",
       "      <th>514</th>\n",
       "      <td>7</td>\n",
       "      <td>4</td>\n",
       "      <td>81.6</td>\n",
       "      <td>56.7</td>\n",
       "      <td>665.6</td>\n",
       "      <td>1.9</td>\n",
       "      <td>21.2</td>\n",
       "      <td>70</td>\n",
       "      <td>6.7</td>\n",
       "      <td>0.0</td>\n",
       "      <td>...</td>\n",
       "      <td>0.0</td>\n",
       "      <td>0.0</td>\n",
       "      <td>0.0</td>\n",
       "      <td>0.0</td>\n",
       "      <td>0.0</td>\n",
       "      <td>0.0</td>\n",
       "      <td>1.0</td>\n",
       "      <td>0.0</td>\n",
       "      <td>0.0</td>\n",
       "      <td>0.0</td>\n",
       "    </tr>\n",
       "    <tr>\n",
       "      <th>515</th>\n",
       "      <td>1</td>\n",
       "      <td>4</td>\n",
       "      <td>94.4</td>\n",
       "      <td>146.0</td>\n",
       "      <td>614.7</td>\n",
       "      <td>11.3</td>\n",
       "      <td>25.6</td>\n",
       "      <td>42</td>\n",
       "      <td>4.0</td>\n",
       "      <td>0.0</td>\n",
       "      <td>...</td>\n",
       "      <td>0.0</td>\n",
       "      <td>0.0</td>\n",
       "      <td>0.0</td>\n",
       "      <td>0.0</td>\n",
       "      <td>0.0</td>\n",
       "      <td>1.0</td>\n",
       "      <td>0.0</td>\n",
       "      <td>0.0</td>\n",
       "      <td>0.0</td>\n",
       "      <td>0.0</td>\n",
       "    </tr>\n",
       "    <tr>\n",
       "      <th>516</th>\n",
       "      <td>6</td>\n",
       "      <td>3</td>\n",
       "      <td>79.5</td>\n",
       "      <td>3.0</td>\n",
       "      <td>106.7</td>\n",
       "      <td>1.1</td>\n",
       "      <td>11.8</td>\n",
       "      <td>31</td>\n",
       "      <td>4.5</td>\n",
       "      <td>0.0</td>\n",
       "      <td>...</td>\n",
       "      <td>1.0</td>\n",
       "      <td>0.0</td>\n",
       "      <td>0.0</td>\n",
       "      <td>0.0</td>\n",
       "      <td>0.0</td>\n",
       "      <td>0.0</td>\n",
       "      <td>0.0</td>\n",
       "      <td>0.0</td>\n",
       "      <td>1.0</td>\n",
       "      <td>0.0</td>\n",
       "    </tr>\n",
       "  </tbody>\n",
       "</table>\n",
       "<p>510 rows × 30 columns</p>\n",
       "</div>"
      ],
      "text/plain": [
       "     X  Y  FFMC    DMC     DC   ISI  temp  RH  wind  rain  ...  month_nov  \\\n",
       "0    7  5  86.2   26.2   94.3   5.1   8.2  51   6.7   0.0  ...        0.0   \n",
       "1    7  4  90.6   35.4  669.1   6.7  18.0  33   0.9   0.0  ...        0.0   \n",
       "2    7  4  90.6   43.7  686.9   6.7  14.6  33   1.3   0.0  ...        0.0   \n",
       "3    8  6  91.7   33.3   77.5   9.0   8.3  97   4.0   0.2  ...        0.0   \n",
       "4    8  6  89.3   51.3  102.2   9.6  11.4  99   1.8   0.0  ...        0.0   \n",
       "..  .. ..   ...    ...    ...   ...   ...  ..   ...   ...  ...        ...   \n",
       "512  4  3  81.6   56.7  665.6   1.9  27.8  32   2.7   0.0  ...        0.0   \n",
       "513  2  4  81.6   56.7  665.6   1.9  21.9  71   5.8   0.0  ...        0.0   \n",
       "514  7  4  81.6   56.7  665.6   1.9  21.2  70   6.7   0.0  ...        0.0   \n",
       "515  1  4  94.4  146.0  614.7  11.3  25.6  42   4.0   0.0  ...        0.0   \n",
       "516  6  3  79.5    3.0  106.7   1.1  11.8  31   4.5   0.0  ...        1.0   \n",
       "\n",
       "     month_oct  month_sep  day_fri  day_mon  day_sat  day_sun  day_thu  \\\n",
       "0          0.0        0.0      1.0      0.0      0.0      0.0      0.0   \n",
       "1          1.0        0.0      0.0      0.0      0.0      0.0      0.0   \n",
       "2          1.0        0.0      0.0      0.0      1.0      0.0      0.0   \n",
       "3          0.0        0.0      1.0      0.0      0.0      0.0      0.0   \n",
       "4          0.0        0.0      0.0      0.0      0.0      1.0      0.0   \n",
       "..         ...        ...      ...      ...      ...      ...      ...   \n",
       "512        0.0        0.0      0.0      0.0      0.0      1.0      0.0   \n",
       "513        0.0        0.0      0.0      0.0      0.0      1.0      0.0   \n",
       "514        0.0        0.0      0.0      0.0      0.0      1.0      0.0   \n",
       "515        0.0        0.0      0.0      0.0      1.0      0.0      0.0   \n",
       "516        0.0        0.0      0.0      0.0      0.0      0.0      0.0   \n",
       "\n",
       "     day_tue  day_wed  \n",
       "0        0.0      0.0  \n",
       "1        1.0      0.0  \n",
       "2        0.0      0.0  \n",
       "3        0.0      0.0  \n",
       "4        0.0      0.0  \n",
       "..       ...      ...  \n",
       "512      0.0      0.0  \n",
       "513      0.0      0.0  \n",
       "514      0.0      0.0  \n",
       "515      0.0      0.0  \n",
       "516      1.0      0.0  \n",
       "\n",
       "[510 rows x 30 columns]"
      ]
     },
     "execution_count": 17,
     "metadata": {},
     "output_type": "execute_result"
    }
   ],
   "source": [
    "# In order to use the categorical values, I use the one-hot encoding for 'month' and 'day'\n",
    "# or similar fire = pd.get_dummies(fire, columns=['month','day'],drop_first=True)\n",
    "\n",
    "def onehot_feature(fire, column_name):\n",
    "    # Retrieve the unique values (the categories) and an index for each sample\n",
    "    # specifying the sample category (values[value_idx] reconstruct the original array)\n",
    "    col_values = fire[column_name].to_numpy().astype('<U')\n",
    "    values, value_idx = np.unique(col_values, return_inverse=True)\n",
    "    n_values = values.size\n",
    "    # Create a temporary identity matrix to convert value_idx into one-hot features\n",
    "    onehots = np.eye(n_values, n_values)\n",
    "    value_onehot = onehots[value_idx]\n",
    "    # Remove the categorical feature\n",
    "    fire = fire.drop(column_name, axis=1)\n",
    "    # Add the new featues\n",
    "    for i in range(n_values):\n",
    "        fire[\"{}_{}\".format(column_name, values[i])] = value_onehot[:, i]\n",
    "        \n",
    "    return fire\n",
    "\n",
    "# Convert month and day into a one-hot encoding\n",
    "fire_temp = onehot_feature(fire, 'month')\n",
    "fire_temp1 = onehot_feature(fire_temp, 'day')\n",
    "fire_temp1"
   ]
  },
  {
   "cell_type": "markdown",
   "id": "6b75dd4c",
   "metadata": {},
   "source": [
    "## Analysis"
   ]
  },
  {
   "cell_type": "markdown",
   "id": "be0255eb",
   "metadata": {},
   "source": [
    "### Split data"
   ]
  },
  {
   "cell_type": "markdown",
   "id": "b3ef70b8",
   "metadata": {},
   "source": [
    "Split the data into train and test data."
   ]
  },
  {
   "cell_type": "code",
   "execution_count": 18,
   "id": "4904b763",
   "metadata": {},
   "outputs": [
    {
     "name": "stdout",
     "output_type": "stream",
     "text": [
      "X.shape (510, 29) X.dtype float64\n",
      "y.shape (510,) y.dtype float64\n"
     ]
    }
   ],
   "source": [
    "# Split X and y\n",
    "# X all the columns except 'area'\n",
    "X_all_features = ['X', 'Y', 'FFMC', 'DMC', 'DC', 'ISI', 'temp', 'RH', 'wind', 'rain',\n",
    "                  'month_apr', 'month_aug', 'month_dec', 'month_feb', 'month_jan',\n",
    "       'month_jul', 'month_jun', 'month_mar', 'month_may', 'month_nov',\n",
    "       'month_oct', 'month_sep', 'day_fri', 'day_mon', 'day_sat', 'day_sun',\n",
    "       'day_thu', 'day_tue', 'day_wed']\n",
    "# Select the features and convert them to numpy\n",
    "X = fire_temp1[X_all_features].to_numpy()\n",
    "# y just the 'area' column\n",
    "y = fire_temp1['area'].to_numpy()\n",
    "\n",
    "print(\"X.shape\", X.shape, \"X.dtype\", X.dtype)\n",
    "print(\"y.shape\", y.shape, \"y.dtype\", y.dtype)"
   ]
  },
  {
   "cell_type": "code",
   "execution_count": 19,
   "id": "c83f4d66",
   "metadata": {},
   "outputs": [
    {
     "name": "stdout",
     "output_type": "stream",
     "text": [
      "X_train.shape (357, 29)\n",
      "X_test.shape (153, 29)\n"
     ]
    }
   ],
   "source": [
    "from sklearn.model_selection import train_test_split,GridSearchCV\n",
    "\n",
    "split_test_seed = 40\n",
    "split_test_size = 0.3\n",
    "\n",
    "\n",
    "# Split X and y into train and test\n",
    "X_train, X_test, y_train, y_test = train_test_split(X, y, \n",
    "                                                    test_size=split_test_size, \n",
    "                                                    random_state=split_test_seed)\n",
    "\n",
    "print(\"X_train.shape\", X_train.shape)\n",
    "print(\"X_test.shape\", X_test.shape)"
   ]
  },
  {
   "cell_type": "markdown",
   "id": "ebb0f0b1",
   "metadata": {},
   "source": [
    "## Linear regression"
   ]
  },
  {
   "cell_type": "code",
   "execution_count": 20,
   "id": "2d7c100e",
   "metadata": {},
   "outputs": [
    {
     "name": "stdout",
     "output_type": "stream",
     "text": [
      "Train R2 score  0.11998050208180677\n",
      "Train MSE score  1.6950765354676494\n",
      "Test R2 score  -0.14527137520693478\n",
      "Test MSE score  2.337716310722721\n"
     ]
    }
   ],
   "source": [
    "from sklearn.metrics import r2_score, mean_squared_error\n",
    "from sklearn.linear_model import LinearRegression  # model selection\n",
    "\n",
    "# Build model + Model fitting\n",
    "model = LinearRegression(fit_intercept=True)\n",
    "model = model.fit(X_train, y_train) #model fitting\n",
    "\n",
    "# Prediction\n",
    "y_predict_test = model.predict(X_test)\n",
    "y_predict_train = model.predict(X_train)\n",
    "\n",
    "# Model evaluation\n",
    "print(\"Train R2 score \", r2_score(y_train, y_predict_train))\n",
    "print(\"Train MSE score \", mean_squared_error(y_train, y_predict_train))\n",
    "\n",
    "print(\"Test R2 score \", r2_score(y_test, y_predict_test))\n",
    "print(\"Test MSE score \", mean_squared_error(y_test, y_predict_test))"
   ]
  },
  {
   "cell_type": "code",
   "execution_count": 21,
   "id": "64f24a9f",
   "metadata": {},
   "outputs": [
    {
     "name": "stdout",
     "output_type": "stream",
     "text": [
      "The coefficient for X is 0.05358795362291087\n",
      "The coefficient for Y is 0.026534480094867915\n",
      "The coefficient for FFMC is 0.014694762248391603\n",
      "The coefficient for DMC is 0.0024532540149069778\n",
      "The coefficient for DC is -0.0022235329716174153\n",
      "The coefficient for ISI is -0.01069798419683853\n",
      "The coefficient for temp is 0.042183800521264296\n",
      "The coefficient for RH is 0.007226518827419254\n",
      "The coefficient for wind is 0.09589268937134163\n",
      "The coefficient for rain is 0.0741684903592903\n",
      "The coefficient for month_apr is 0.011299011535152432\n",
      "The coefficient for month_aug is -0.08772591988135797\n",
      "The coefficient for month_dec is 1.519315802644301\n",
      "The coefficient for month_feb is -0.1671371829085219\n",
      "The coefficient for month_jan is -0.8734994073279021\n",
      "The coefficient for month_jul is -0.6704107478644032\n",
      "The coefficient for month_jun is -0.7539480067695682\n",
      "The coefficient for month_mar is -0.8588771147542963\n",
      "The coefficient for month_may is 2.1794209407062026\n",
      "The coefficient for month_nov is -1.3083913969598007\n",
      "The coefficient for month_oct is 0.12370299424171205\n",
      "The coefficient for month_sep is 0.8862510273385011\n",
      "The coefficient for day_fri is -0.21667743004673046\n",
      "The coefficient for day_mon is -0.02761039385206999\n",
      "The coefficient for day_sat is 0.2106265978901021\n",
      "The coefficient for day_sun is 0.136931928847212\n",
      "The coefficient for day_thu is -0.08024148442796512\n",
      "The coefficient for day_tue is -0.005667476798372877\n",
      "The coefficient for day_wed is -0.017361741612177507\n",
      "The intercept is -1.167\n"
     ]
    }
   ],
   "source": [
    "for idx, col_name in enumerate(X_all_features):\n",
    "    print(\"The coefficient for {} is {}\".format(col_name, model.coef_[idx]))\n",
    "print(\"The intercept is {:0.3f}\".format(model.intercept_))"
   ]
  },
  {
   "cell_type": "code",
   "execution_count": 22,
   "id": "bc5abadc",
   "metadata": {},
   "outputs": [],
   "source": [
    "from scipy.stats import t, f\n",
    "\n",
    "def rss(y_true, y_pred):\n",
    "    # First we make sure the shapes are the same\n",
    "    y_true = y_true.reshape(y_pred.shape)\n",
    "    return np.sum((y_true - y_pred) ** 2)\n",
    "\n",
    "def tss(y):\n",
    "    return np.sum((y - y.mean()) ** 2)\n",
    "\n",
    "def multiple_least_squares(X, y):\n",
    "    # Helper function that uses scikit-learn models\n",
    "    # and behaves as the function we implemented in\n",
    "    # Lab02.01\n",
    "    model = LinearRegression(fit_intercept=True)\n",
    "    model.fit(X, y)\n",
    "    y_pred = model.predict(X)\n",
    "    betas = [model.intercept_, *model.coef_]\n",
    "    return betas, y_pred\n",
    "\n",
    "# Computes coefficient statistcs\n",
    "def show_stats(X, y, betas, names, alpha=None):\n",
    "    n_samples, n_features = X.shape\n",
    "    deg = n_samples-n_features\n",
    "    \n",
    "    # If the ones column has not been added\n",
    "    if X.shape[1] + 1 == betas.shape[0]:\n",
    "        X = np.concatenate([np.ones([X.shape[0], 1]), X], axis=-1)\n",
    "    \n",
    "    # Compute the prediction\n",
    "    pred = X.dot(betas).reshape(-1)\n",
    "    betas = betas.reshape(-1)\n",
    "    y = y.reshape(-1)\n",
    "    RSE = ((y-pred)**2).sum()/(n_samples - n_features)\n",
    "\n",
    "    # Compute the t statistics\n",
    "    se2_b = RSE*(np.linalg.inv(np.dot(X.T, X)).diagonal())\n",
    "    se_b = np.sqrt(se2_b)\n",
    "    t_stat_b = (betas - 0) / se_b\n",
    "\n",
    "    # Compute the p-value\n",
    "    p_values = np.array([2*t.sf(np.abs(t_stat), deg) for t_stat in t_stat_b])\n",
    "    \n",
    "    df = pd.DataFrame()\n",
    "    df[\"Name\"] = names\n",
    "    df[\"Coefficients\"] = betas\n",
    "    df[\"Standard Errors\"] = se_b\n",
    "    df[\"t-stat\"] = t_stat_b\n",
    "    df[\"p-value\"] = p_values\n",
    "    if alpha:\n",
    "        rejectH0 = p_values < alpha\n",
    "        df[\"reject H0\"] = rejectH0    \n",
    "    \n",
    "    RSS = np.sum((y - pred)**2)\n",
    "    MSE = RSS/y.shape[0]\n",
    "    #print(\"RSS: {}\".format(RSS))\n",
    "    \n",
    "    return df\n",
    " \n",
    "# H0: all features in the subset are equal to 0    \n",
    "def Ftest_restricted(data, y, subset_features):\n",
    "    # Train the complete model\n",
    "    X_complete = data.to_numpy()\n",
    "    y = y.to_numpy()\n",
    "    n = X_complete.shape[0]\n",
    "    \n",
    "    betas_complete, y_pred = multiple_least_squares(X_complete, y)    \n",
    "    rss_complete = rss(y, y_pred)\n",
    "    nf_complete = X_complete.shape[1]\n",
    "    \n",
    "    # Train the restricted model\n",
    "    notS = data.columns.difference(subset_features)\n",
    "    X_restr = data[notS].to_numpy()\n",
    "    betas_restr, y_pred = multiple_least_squares(X_restr, y)\n",
    "\n",
    "    rss_restr = rss(y, y_pred)\n",
    "    nf_restr = X_restr.shape[1]\n",
    "\n",
    "    q = nf_complete - nf_restr\n",
    "\n",
    "    # Compute F statistics\n",
    "    F_num = (rss_restr - rss_complete) / q\n",
    "    F_den = rss_complete / (n - nf_complete - 1)\n",
    "    F = F_num / F_den\n",
    "\n",
    "    # Compute the p-value\n",
    "    p_value = f.sf(F, q, n - nf_complete - 1)\n",
    "    return p_value, F"
   ]
  },
  {
   "cell_type": "code",
   "execution_count": 23,
   "id": "8ba7c448",
   "metadata": {},
   "outputs": [
    {
     "data": {
      "text/html": [
       "<div>\n",
       "<style scoped>\n",
       "    .dataframe tbody tr th:only-of-type {\n",
       "        vertical-align: middle;\n",
       "    }\n",
       "\n",
       "    .dataframe tbody tr th {\n",
       "        vertical-align: top;\n",
       "    }\n",
       "\n",
       "    .dataframe thead th {\n",
       "        text-align: right;\n",
       "    }\n",
       "</style>\n",
       "<table border=\"1\" class=\"dataframe\">\n",
       "  <thead>\n",
       "    <tr style=\"text-align: right;\">\n",
       "      <th></th>\n",
       "      <th>Name</th>\n",
       "      <th>Coefficients</th>\n",
       "      <th>Standard Errors</th>\n",
       "      <th>t-stat</th>\n",
       "      <th>p-value</th>\n",
       "      <th>reject H0</th>\n",
       "    </tr>\n",
       "  </thead>\n",
       "  <tbody>\n",
       "    <tr>\n",
       "      <th>0</th>\n",
       "      <td>Intercept</td>\n",
       "      <td>-1.166955</td>\n",
       "      <td>5.418045e+06</td>\n",
       "      <td>-2.153830e-07</td>\n",
       "      <td>1.000000</td>\n",
       "      <td>False</td>\n",
       "    </tr>\n",
       "    <tr>\n",
       "      <th>1</th>\n",
       "      <td>X</td>\n",
       "      <td>0.053588</td>\n",
       "      <td>3.800413e-02</td>\n",
       "      <td>1.410056e+00</td>\n",
       "      <td>0.159471</td>\n",
       "      <td>False</td>\n",
       "    </tr>\n",
       "    <tr>\n",
       "      <th>2</th>\n",
       "      <td>Y</td>\n",
       "      <td>0.026534</td>\n",
       "      <td>7.305557e-02</td>\n",
       "      <td>3.632095e-01</td>\n",
       "      <td>0.716682</td>\n",
       "      <td>False</td>\n",
       "    </tr>\n",
       "    <tr>\n",
       "      <th>3</th>\n",
       "      <td>FFMC</td>\n",
       "      <td>0.014695</td>\n",
       "      <td>1.709185e-02</td>\n",
       "      <td>8.597528e-01</td>\n",
       "      <td>0.390553</td>\n",
       "      <td>False</td>\n",
       "    </tr>\n",
       "    <tr>\n",
       "      <th>4</th>\n",
       "      <td>DMC</td>\n",
       "      <td>0.002453</td>\n",
       "      <td>2.310629e-03</td>\n",
       "      <td>1.061726e+00</td>\n",
       "      <td>0.289141</td>\n",
       "      <td>False</td>\n",
       "    </tr>\n",
       "    <tr>\n",
       "      <th>5</th>\n",
       "      <td>DC</td>\n",
       "      <td>-0.002224</td>\n",
       "      <td>1.670675e-03</td>\n",
       "      <td>-1.330919e+00</td>\n",
       "      <td>0.184140</td>\n",
       "      <td>False</td>\n",
       "    </tr>\n",
       "    <tr>\n",
       "      <th>6</th>\n",
       "      <td>ISI</td>\n",
       "      <td>-0.010698</td>\n",
       "      <td>1.978069e-02</td>\n",
       "      <td>-5.408297e-01</td>\n",
       "      <td>0.588992</td>\n",
       "      <td>False</td>\n",
       "    </tr>\n",
       "    <tr>\n",
       "      <th>7</th>\n",
       "      <td>temp</td>\n",
       "      <td>0.042184</td>\n",
       "      <td>2.718882e-02</td>\n",
       "      <td>1.551513e+00</td>\n",
       "      <td>0.121743</td>\n",
       "      <td>False</td>\n",
       "    </tr>\n",
       "    <tr>\n",
       "      <th>8</th>\n",
       "      <td>RH</td>\n",
       "      <td>0.007227</td>\n",
       "      <td>7.655468e-03</td>\n",
       "      <td>9.439683e-01</td>\n",
       "      <td>0.345881</td>\n",
       "      <td>False</td>\n",
       "    </tr>\n",
       "    <tr>\n",
       "      <th>9</th>\n",
       "      <td>wind</td>\n",
       "      <td>0.095893</td>\n",
       "      <td>4.444541e-02</td>\n",
       "      <td>2.157538e+00</td>\n",
       "      <td>0.031689</td>\n",
       "      <td>True</td>\n",
       "    </tr>\n",
       "    <tr>\n",
       "      <th>10</th>\n",
       "      <td>rain</td>\n",
       "      <td>0.074168</td>\n",
       "      <td>2.167627e-01</td>\n",
       "      <td>3.421645e-01</td>\n",
       "      <td>0.732446</td>\n",
       "      <td>False</td>\n",
       "    </tr>\n",
       "    <tr>\n",
       "      <th>11</th>\n",
       "      <td>month_apr</td>\n",
       "      <td>0.011299</td>\n",
       "      <td>7.743684e+06</td>\n",
       "      <td>1.459126e-09</td>\n",
       "      <td>1.000000</td>\n",
       "      <td>False</td>\n",
       "    </tr>\n",
       "    <tr>\n",
       "      <th>12</th>\n",
       "      <td>month_aug</td>\n",
       "      <td>-0.087726</td>\n",
       "      <td>7.840381e+06</td>\n",
       "      <td>-1.118899e-08</td>\n",
       "      <td>1.000000</td>\n",
       "      <td>False</td>\n",
       "    </tr>\n",
       "    <tr>\n",
       "      <th>13</th>\n",
       "      <td>month_dec</td>\n",
       "      <td>1.519316</td>\n",
       "      <td>7.887096e+06</td>\n",
       "      <td>1.926331e-07</td>\n",
       "      <td>1.000000</td>\n",
       "      <td>False</td>\n",
       "    </tr>\n",
       "    <tr>\n",
       "      <th>14</th>\n",
       "      <td>month_feb</td>\n",
       "      <td>-0.167137</td>\n",
       "      <td>7.765085e+06</td>\n",
       "      <td>-2.152419e-08</td>\n",
       "      <td>1.000000</td>\n",
       "      <td>False</td>\n",
       "    </tr>\n",
       "    <tr>\n",
       "      <th>15</th>\n",
       "      <td>month_jan</td>\n",
       "      <td>-0.873499</td>\n",
       "      <td>7.704796e+06</td>\n",
       "      <td>-1.133709e-07</td>\n",
       "      <td>1.000000</td>\n",
       "      <td>False</td>\n",
       "    </tr>\n",
       "    <tr>\n",
       "      <th>16</th>\n",
       "      <td>month_jul</td>\n",
       "      <td>-0.670411</td>\n",
       "      <td>7.829673e+06</td>\n",
       "      <td>-8.562436e-08</td>\n",
       "      <td>1.000000</td>\n",
       "      <td>False</td>\n",
       "    </tr>\n",
       "    <tr>\n",
       "      <th>17</th>\n",
       "      <td>month_jun</td>\n",
       "      <td>-0.753948</td>\n",
       "      <td>7.836604e+06</td>\n",
       "      <td>-9.620851e-08</td>\n",
       "      <td>1.000000</td>\n",
       "      <td>False</td>\n",
       "    </tr>\n",
       "    <tr>\n",
       "      <th>18</th>\n",
       "      <td>month_mar</td>\n",
       "      <td>-0.858877</td>\n",
       "      <td>7.816544e+06</td>\n",
       "      <td>-1.098794e-07</td>\n",
       "      <td>1.000000</td>\n",
       "      <td>False</td>\n",
       "    </tr>\n",
       "    <tr>\n",
       "      <th>19</th>\n",
       "      <td>month_may</td>\n",
       "      <td>2.179421</td>\n",
       "      <td>7.787340e+06</td>\n",
       "      <td>2.798672e-07</td>\n",
       "      <td>1.000000</td>\n",
       "      <td>False</td>\n",
       "    </tr>\n",
       "    <tr>\n",
       "      <th>20</th>\n",
       "      <td>month_nov</td>\n",
       "      <td>-1.308391</td>\n",
       "      <td>7.816464e+06</td>\n",
       "      <td>-1.673892e-07</td>\n",
       "      <td>1.000000</td>\n",
       "      <td>False</td>\n",
       "    </tr>\n",
       "    <tr>\n",
       "      <th>21</th>\n",
       "      <td>month_oct</td>\n",
       "      <td>0.123703</td>\n",
       "      <td>7.869170e+06</td>\n",
       "      <td>1.571995e-08</td>\n",
       "      <td>1.000000</td>\n",
       "      <td>False</td>\n",
       "    </tr>\n",
       "    <tr>\n",
       "      <th>22</th>\n",
       "      <td>month_sep</td>\n",
       "      <td>0.886251</td>\n",
       "      <td>7.754266e+06</td>\n",
       "      <td>1.142921e-07</td>\n",
       "      <td>1.000000</td>\n",
       "      <td>False</td>\n",
       "    </tr>\n",
       "    <tr>\n",
       "      <th>23</th>\n",
       "      <td>day_fri</td>\n",
       "      <td>-0.216677</td>\n",
       "      <td>6.090427e+06</td>\n",
       "      <td>-3.557672e-08</td>\n",
       "      <td>1.000000</td>\n",
       "      <td>False</td>\n",
       "    </tr>\n",
       "    <tr>\n",
       "      <th>24</th>\n",
       "      <td>day_mon</td>\n",
       "      <td>-0.027610</td>\n",
       "      <td>6.090427e+06</td>\n",
       "      <td>-4.533409e-09</td>\n",
       "      <td>1.000000</td>\n",
       "      <td>False</td>\n",
       "    </tr>\n",
       "    <tr>\n",
       "      <th>25</th>\n",
       "      <td>day_sat</td>\n",
       "      <td>0.210627</td>\n",
       "      <td>6.090427e+06</td>\n",
       "      <td>3.458323e-08</td>\n",
       "      <td>1.000000</td>\n",
       "      <td>False</td>\n",
       "    </tr>\n",
       "    <tr>\n",
       "      <th>26</th>\n",
       "      <td>day_sun</td>\n",
       "      <td>0.136932</td>\n",
       "      <td>6.090427e+06</td>\n",
       "      <td>2.248314e-08</td>\n",
       "      <td>1.000000</td>\n",
       "      <td>False</td>\n",
       "    </tr>\n",
       "    <tr>\n",
       "      <th>27</th>\n",
       "      <td>day_thu</td>\n",
       "      <td>-0.080241</td>\n",
       "      <td>6.090427e+06</td>\n",
       "      <td>-1.317502e-08</td>\n",
       "      <td>1.000000</td>\n",
       "      <td>False</td>\n",
       "    </tr>\n",
       "    <tr>\n",
       "      <th>28</th>\n",
       "      <td>day_tue</td>\n",
       "      <td>-0.005667</td>\n",
       "      <td>6.090427e+06</td>\n",
       "      <td>-9.305550e-10</td>\n",
       "      <td>1.000000</td>\n",
       "      <td>False</td>\n",
       "    </tr>\n",
       "    <tr>\n",
       "      <th>29</th>\n",
       "      <td>day_wed</td>\n",
       "      <td>-0.017362</td>\n",
       "      <td>6.090427e+06</td>\n",
       "      <td>-2.850661e-09</td>\n",
       "      <td>1.000000</td>\n",
       "      <td>False</td>\n",
       "    </tr>\n",
       "  </tbody>\n",
       "</table>\n",
       "</div>"
      ],
      "text/plain": [
       "         Name  Coefficients  Standard Errors        t-stat   p-value  \\\n",
       "0   Intercept     -1.166955     5.418045e+06 -2.153830e-07  1.000000   \n",
       "1           X      0.053588     3.800413e-02  1.410056e+00  0.159471   \n",
       "2           Y      0.026534     7.305557e-02  3.632095e-01  0.716682   \n",
       "3        FFMC      0.014695     1.709185e-02  8.597528e-01  0.390553   \n",
       "4         DMC      0.002453     2.310629e-03  1.061726e+00  0.289141   \n",
       "5          DC     -0.002224     1.670675e-03 -1.330919e+00  0.184140   \n",
       "6         ISI     -0.010698     1.978069e-02 -5.408297e-01  0.588992   \n",
       "7        temp      0.042184     2.718882e-02  1.551513e+00  0.121743   \n",
       "8          RH      0.007227     7.655468e-03  9.439683e-01  0.345881   \n",
       "9        wind      0.095893     4.444541e-02  2.157538e+00  0.031689   \n",
       "10       rain      0.074168     2.167627e-01  3.421645e-01  0.732446   \n",
       "11  month_apr      0.011299     7.743684e+06  1.459126e-09  1.000000   \n",
       "12  month_aug     -0.087726     7.840381e+06 -1.118899e-08  1.000000   \n",
       "13  month_dec      1.519316     7.887096e+06  1.926331e-07  1.000000   \n",
       "14  month_feb     -0.167137     7.765085e+06 -2.152419e-08  1.000000   \n",
       "15  month_jan     -0.873499     7.704796e+06 -1.133709e-07  1.000000   \n",
       "16  month_jul     -0.670411     7.829673e+06 -8.562436e-08  1.000000   \n",
       "17  month_jun     -0.753948     7.836604e+06 -9.620851e-08  1.000000   \n",
       "18  month_mar     -0.858877     7.816544e+06 -1.098794e-07  1.000000   \n",
       "19  month_may      2.179421     7.787340e+06  2.798672e-07  1.000000   \n",
       "20  month_nov     -1.308391     7.816464e+06 -1.673892e-07  1.000000   \n",
       "21  month_oct      0.123703     7.869170e+06  1.571995e-08  1.000000   \n",
       "22  month_sep      0.886251     7.754266e+06  1.142921e-07  1.000000   \n",
       "23    day_fri     -0.216677     6.090427e+06 -3.557672e-08  1.000000   \n",
       "24    day_mon     -0.027610     6.090427e+06 -4.533409e-09  1.000000   \n",
       "25    day_sat      0.210627     6.090427e+06  3.458323e-08  1.000000   \n",
       "26    day_sun      0.136932     6.090427e+06  2.248314e-08  1.000000   \n",
       "27    day_thu     -0.080241     6.090427e+06 -1.317502e-08  1.000000   \n",
       "28    day_tue     -0.005667     6.090427e+06 -9.305550e-10  1.000000   \n",
       "29    day_wed     -0.017362     6.090427e+06 -2.850661e-09  1.000000   \n",
       "\n",
       "    reject H0  \n",
       "0       False  \n",
       "1       False  \n",
       "2       False  \n",
       "3       False  \n",
       "4       False  \n",
       "5       False  \n",
       "6       False  \n",
       "7       False  \n",
       "8       False  \n",
       "9        True  \n",
       "10      False  \n",
       "11      False  \n",
       "12      False  \n",
       "13      False  \n",
       "14      False  \n",
       "15      False  \n",
       "16      False  \n",
       "17      False  \n",
       "18      False  \n",
       "19      False  \n",
       "20      False  \n",
       "21      False  \n",
       "22      False  \n",
       "23      False  \n",
       "24      False  \n",
       "25      False  \n",
       "26      False  \n",
       "27      False  \n",
       "28      False  \n",
       "29      False  "
      ]
     },
     "execution_count": 23,
     "metadata": {},
     "output_type": "execute_result"
    }
   ],
   "source": [
    "#I set alpha 0.5\n",
    "betas = np.array([model.intercept_, *model.coef_]).reshape(-1, 1)\n",
    "show_stats(X_train, y_train, betas, ['Intercept', *X_all_features], alpha=0.05)"
   ]
  },
  {
   "cell_type": "markdown",
   "id": "cf423547",
   "metadata": {},
   "source": [
    "**Comment**\n",
    "\n",
    "For the all feature (except 'wind') the t-test failed and so we have no evidence to say that those features are correlated with the observatation. 'wind' passing the f-test could have sense since (for propagating) the forest fires has a huge impact.\n",
    "The R2 scores are bad (but not so bad) that means our model does not fit the real data.\n",
    "\n",
    "¶Setting the CI with alpha=0.5 it makes'wind' to reject the Null hypothesis. Without the normalization on the area, it would be 'DC' with a similar p-value (0.026437) but a negative t-stat (-2.229801e+00).\n",
    "'DC' also can make sense because is a measure of the Drought Code, and index that represents drying deep into the soil.\n",
    "¶"
   ]
  },
  {
   "cell_type": "code",
   "execution_count": 113,
   "id": "fbb1e941",
   "metadata": {},
   "outputs": [
    {
     "name": "stdout",
     "output_type": "stream",
     "text": [
      "p-value = 0.06609326130982851\n",
      "F-stat = 1.4591481385965328\n",
      "Do not Reject H0: There is NO evidence to say that at least one of the S features is useful\n"
     ]
    }
   ],
   "source": [
    "#Perform F-stat\n",
    "alpha = 0.05\n",
    "X_all_features = ['X', 'Y', 'FFMC', 'DMC', 'DC', 'ISI', 'temp', 'RH', 'wind', 'rain', 'month_apr', 'month_aug', 'month_dec', 'month_feb', 'month_jan', 'month_jul', 'month_jun', 'month_mar', 'month_may', 'month_nov', 'month_oct', 'month_sep', 'day_fri', 'day_mon', 'day_sat', 'day_sun', 'day_thu', 'day_tue', 'day_wed']\n",
    "# The Ftest_restricted function expect an input data that is a Pandas\n",
    "# array (since it will use strings to select the restricted model's features)\n",
    "# However X_train is a numpy array. Let's convert it back to Pandas\n",
    "X_train_pd = pd.DataFrame(X_train, columns=X_all_features)\n",
    "y_train_pd = pd.DataFrame(y_train)\n",
    "#all features without 'wind'\n",
    "\n",
    "features = ['X', 'Y', 'FFMC', 'DMC', 'DC', 'ISI', 'temp', 'RH', 'rain', 'month_apr', 'month_aug', 'month_dec', 'month_feb', 'month_jan', 'month_jul', 'month_jun', 'month_mar', 'month_may', 'month_nov', 'month_oct', 'month_sep', 'day_fri', 'day_mon', 'day_sat', 'day_sun', 'day_thu', 'day_tue', 'day_wed']\n",
    "p_value, F = Ftest_restricted(X_train_pd, y_train_pd, features)\n",
    "print(\"p-value =\", p_value)\n",
    "print(\"F-stat =\", F)\n",
    "if p_value < alpha:\n",
    "    print(\"Reject H0: There evidence to say that at least one of the S features is useful\")\n",
    "else:\n",
    "    print(\"Do not Reject H0: There is NO evidence to say that at least one of the S features is useful\")"
   ]
  },
  {
   "cell_type": "markdown",
   "id": "4a9039e3",
   "metadata": {},
   "source": [
    "As expected we can't refuse null hypothesis "
   ]
  },
  {
   "cell_type": "code",
   "execution_count": 34,
   "id": "dd8f665c",
   "metadata": {},
   "outputs": [
    {
     "name": "stdout",
     "output_type": "stream",
     "text": [
      "Train R2 score  -0.0675406112475816\n",
      "Train MSE score  2.1897304174728394\n",
      "Test R2 score  -0.05455037980456723\n",
      "Test MSE score  1.8475492176179684\n"
     ]
    }
   ],
   "source": [
    "#Fit the model with 'wind'\n",
    "target = 'area'\n",
    "\n",
    "\n",
    "X_features = ['wind']\n",
    "X = fire_temp1[X_features].to_numpy()\n",
    "y = fire_temp1[target].to_numpy()\n",
    "\n",
    "split_test_seed_v2=3\n",
    "X_train_small, X_test_small, y_train_small, y_test_small = train_test_split(X, y,\n",
    "                                                                test_size=split_test_size, \n",
    "                                                                random_state=split_test_seed_v2)\n",
    "\n",
    "model = LinearRegression(fit_intercept=False) # We already discovered intercept is not significant                       \n",
    "model = model.fit(X_train_small, y_train_small)       \n",
    "y_predict_test = model.predict(X_test_small)     \n",
    "y_predict_train = model.predict(X_train_small)\n",
    "\n",
    "\n",
    "print(\"Train R2 score \", r2_score(y_train_small, y_predict_train))\n",
    "print(\"Train MSE score \", mean_squared_error(y_train_small, y_predict_train))\n",
    "\n",
    "print(\"Test R2 score \", r2_score(y_test_small, y_predict_test))\n",
    "print(\"Test MSE score \", mean_squared_error(y_test_small, y_predict_test))"
   ]
  },
  {
   "cell_type": "markdown",
   "id": "a9d5ac1f",
   "metadata": {},
   "source": [
    "The R2 score is negative so probably the wind feature does not follow the trend of the data (maybe we can have better results with overfitting), the MSE is not too bad. \n",
    "\n",
    "¶ Wihout normalize the area, removing the months the results are much worse¶"
   ]
  },
  {
   "cell_type": "markdown",
   "id": "37e14887",
   "metadata": {},
   "source": [
    "## Polynomial Regression"
   ]
  },
  {
   "cell_type": "code",
   "execution_count": null,
   "id": "7098dd75",
   "metadata": {},
   "outputs": [],
   "source": [
    "from sklearn.preprocessing import PolynomialFeatures\n",
    "\n",
    "# ¶I choose to use degree=1 because, performing the cross-validation, ti produces the lowest MSE.\n",
    "poly = PolynomialFeatures(degree=1, include_bias=False)\n",
    "poly = poly.fit(X_train_small)\n",
    "\n",
    "# Applies the transformation\n",
    "X_train_poly = poly.transform(X_train_small)\n",
    "X_test_poly = poly.transform(X_test_small)\n",
    "\n",
    "# With degree 2 we have: x1,x2,x3,x1x1,x1x2,x1x3,x2x2,x2x3,x3x3\n",
    "print(\"X_train_small.shape\", X_train_small.shape, \" X_poly_train.shape\", X_train_poly.shape)\n",
    "print(\"X_train_small.shape\", X_test_small.shape, \" X_poly_train.shape\", X_test_poly.shape)"
   ]
  },
  {
   "cell_type": "markdown",
   "id": "eafb7356",
   "metadata": {},
   "source": [
    "**Train**"
   ]
  },
  {
   "cell_type": "code",
   "execution_count": null,
   "id": "e77e222c",
   "metadata": {},
   "outputs": [],
   "source": [
    "# Fit the LinearRegression predictor\n",
    "model = LinearRegression(fit_intercept=True)           \n",
    "model.fit(X_train_poly, y_train_small)\n",
    "y_predict = model.predict(X_test_poly)"
   ]
  },
  {
   "cell_type": "markdown",
   "id": "6e589078",
   "metadata": {},
   "source": [
    "**Model Evaluation**"
   ]
  },
  {
   "cell_type": "code",
   "execution_count": null,
   "id": "83a35b1c",
   "metadata": {},
   "outputs": [],
   "source": [
    "from sklearn.metrics import r2_score, mean_squared_error\n",
    "print(\"R2 score \", r2_score(y_test_small, y_predict))\n",
    "print(\"MSE score \", mean_squared_error(y_test_small, y_predict))"
   ]
  },
  {
   "cell_type": "markdown",
   "id": "704bae78",
   "metadata": {},
   "source": [
    "The R2 is very very low (at least is non negative!). That means, again, that our model that does not explain any of the variation in the response variable around its mean. We cannot say much because we don't know if 'area' is statistically significant.\n"
   ]
  },
  {
   "cell_type": "markdown",
   "id": "c61ef81c",
   "metadata": {},
   "source": [
    "### Hyperparameters selection"
   ]
  },
  {
   "cell_type": "code",
   "execution_count": null,
   "id": "078e466d",
   "metadata": {},
   "outputs": [],
   "source": [
    "split_test_seed_v3=41\n",
    "X_trainR_small, X_val_small, y_trainR, y_val = train_test_split(X_train_small, y_train_small, \n",
    "                                                                test_size=y_test.shape[0],\n",
    "                                                                random_state=split_test_seed_v3)"
   ]
  },
  {
   "cell_type": "code",
   "execution_count": 106,
   "id": "f40e638b",
   "metadata": {},
   "outputs": [
    {
     "name": "stdout",
     "output_type": "stream",
     "text": [
      "Best degree:  21 \n",
      "Val score:  -0.02099296171559173\n",
      "Test score: -23.393805127600665\n"
     ]
    }
   ],
   "source": [
    "from sklearn.pipeline import Pipeline\n",
    "#I've tried increasing the range of the degree from 0 to 30 to see what happen. \n",
    "degree = list(range(1,30))\n",
    "test_scores = np.zeros(len(degree))\n",
    "val_scores = np.zeros(len(degree))\n",
    "train_scores = np.zeros(len(degree))\n",
    "\n",
    "# Validation\n",
    "for i, d in enumerate(degree):\n",
    "    \n",
    "    model = Pipeline([('poly', PolynomialFeatures(degree=d, include_bias=False)),\n",
    "                      ('linear', LinearRegression(fit_intercept=True))])\n",
    "    \n",
    "    model = model.fit(X_trainR_small, y_trainR)\n",
    "    \n",
    "    y_predict = model.predict(X_val_small)\n",
    "    val_score = r2_score(y_val, y_predict)\n",
    "    y_predict = model.predict(X_test_small)\n",
    "    test_score = r2_score(y_test_small, y_predict)\n",
    "    y_predict = model.predict(X_trainR_small)\n",
    "    train_score = r2_score(y_trainR, y_predict)\n",
    "    \n",
    "    val_scores[i] = val_score\n",
    "    test_scores[i] = test_score\n",
    "    train_scores[i] = train_score\n",
    "\n",
    "# Identifies which is the best degree\n",
    "best_model_idx = np.argmax(val_scores)\n",
    "best_degree = degree[best_model_idx]\n",
    "# And the corresponding (best) validation score\n",
    "best_val_score = val_scores[best_model_idx]\n",
    "print(\"Best degree: \", best_degree,\n",
    "      \"\\nVal score: \", best_val_score)\n",
    "    \n",
    "    \n",
    "# Train again the Pipeline using the best parameter and the whole training set\n",
    "model = Pipeline([('poly', PolynomialFeatures(degree=best_degree, include_bias=False)),\n",
    "                  ('linear', LinearRegression(fit_intercept=True))])\n",
    "# Note: we train on X_train_small + X_val\n",
    "model = model.fit(X_train_small, y_train_small)\n",
    "y_predict = model.predict(X_test_small)\n",
    "test_score = r2_score(y_test_small, y_predict)\n",
    "\n",
    "print(\"Test score:\", test_score)"
   ]
  },
  {
   "cell_type": "code",
   "execution_count": 108,
   "id": "8b2457a8",
   "metadata": {},
   "outputs": [
    {
     "data": {
      "text/plain": [
       "<matplotlib.legend.Legend at 0x7fb04823dd90>"
      ]
     },
     "execution_count": 108,
     "metadata": {},
     "output_type": "execute_result"
    },
    {
     "data": {
      "image/png": "[encoded data removed]",
      "text/plain": [
       "<Figure size 432x288 with 1 Axes>"
      ]
     },
     "metadata": {
      "needs_background": "light"
     },
     "output_type": "display_data"
    }
   ],
   "source": [
    "_ = plt.plot(degree,val_scores, label=\"val score\", color=\"blue\")\n",
    "_ = plt.plot(degree, train_scores, label=\"train score\", color=\"g\")\n",
    "_ = plt.plot(degree, test_scores, label=\"test score\", color=\"orange\")\n",
    "_ = plt.plot([best_degree], [best_val_score], marker=\"x\")\n",
    "plt.legend()"
   ]
  },
  {
   "cell_type": "markdown",
   "id": "a584c3c9",
   "metadata": {},
   "source": [
    "It shows that the best degree is 21, this make me think that maybe there is some correlation between the dependent variables (interactions that need further investigations). \n",
    "\n",
    "But our best degree, confirmed by the cross validation and GridSearchCV (that are below), is 1 (it could make sense only 'wind' passed the test before). Anyway, as we can see on the graph, our model is a mess."
   ]
  },
  {
   "cell_type": "markdown",
   "id": "649c2d44",
   "metadata": {},
   "source": [
    "## Cross Validation"
   ]
  },
  {
   "cell_type": "code",
   "execution_count": 52,
   "id": "32b5b8ab",
   "metadata": {},
   "outputs": [],
   "source": [
    "from sklearn.model_selection import cross_val_score"
   ]
  },
  {
   "cell_type": "code",
   "execution_count": 109,
   "id": "d20dcbf2",
   "metadata": {},
   "outputs": [
    {
     "name": "stdout",
     "output_type": "stream",
     "text": [
      "Best degree:  1 \n",
      "Val score:  -0.03201952903706142\n",
      "Test score: 0.009496030812578216\n"
     ]
    },
    {
     "data": {
      "text/plain": [
       "<matplotlib.legend.Legend at 0x7fafdb052760>"
      ]
     },
     "execution_count": 109,
     "metadata": {},
     "output_type": "execute_result"
    },
    {
     "data": {
      "image/png": "[encoded data removed]",
      "text/plain": [
       "<Figure size 432x288 with 1 Axes>"
      ]
     },
     "metadata": {
      "needs_background": "light"
     },
     "output_type": "display_data"
    }
   ],
   "source": [
    "from sklearn.model_selection import cross_val_score\n",
    "from sklearn.metrics import make_scorer\n",
    "\n",
    "r2_scorer = make_scorer(r2_score,\n",
    "                        greater_is_better=True)\n",
    "\n",
    "#same degree as before\n",
    "degree = list(range(1,30))\n",
    "val_scores = np.zeros(len(degree))\n",
    "# Validation\n",
    "for i, d in enumerate(degree):\n",
    "    model = Pipeline([('poly', PolynomialFeatures(degree=d, include_bias=False)),\n",
    "                      ('linear', LinearRegression(fit_intercept=True))])\n",
    "    scores = cross_val_score(model, X_train_small, y_train_small, scoring=r2_scorer, cv=5)\n",
    "    val_scores[i] = np.mean(scores)\n",
    "\n",
    "# Identifies which is the best degree\n",
    "best_model_idx = np.argmax(val_scores)\n",
    "best_degree = degree[best_model_idx]\n",
    "# And the corresponding (best) validation score\n",
    "best_val_score = val_scores[best_model_idx]\n",
    "print(\"Best degree: \", best_degree,\n",
    "      \"\\nVal score: \", best_val_score)\n",
    "    \n",
    "    \n",
    "# Train again the Pipeline using the best parameter and the whole training set\n",
    "model = Pipeline([('poly', PolynomialFeatures(degree=best_degree, include_bias=False)),\n",
    "                  ('linear', LinearRegression(fit_intercept=True))])\n",
    "# Note: we train on X_train_small + X_val\n",
    "model = model.fit(np.concatenate([X_train_small]), np.concatenate([y_train_small]))\n",
    "y_predict = model.predict(X_test_small)\n",
    "test_score = r2_score(y_test_small, y_predict)\n",
    "\n",
    "print(\"Test score:\", test_score)\n",
    "\n",
    "_ = plt.plot(degree, val_scores, label=\"cv score\", color=\"blue\")\n",
    "_ = plt.plot(degree, train_scores, label=\"train score\", color=\"green\")\n",
    "_ = plt.plot(degree, test_scores, label=\"test score\", color=\"orange\")\n",
    "_ = plt.plot([best_degree], [best_val_score], marker=\"x\")\n",
    "plt.legend()"
   ]
  },
  {
   "cell_type": "markdown",
   "id": "cd6ed8b4",
   "metadata": {},
   "source": [
    "As written before the best degree is 1. And the value and test score are very bad."
   ]
  },
  {
   "cell_type": "markdown",
   "id": "e8ba892d",
   "metadata": {},
   "source": [
    "If we perform GridSearchCV the results does not change aswell."
   ]
  },
  {
   "cell_type": "code",
   "execution_count": 110,
   "id": "3ad1773d",
   "metadata": {},
   "outputs": [],
   "source": [
    "from sklearn.model_selection import GridSearchCV"
   ]
  },
  {
   "cell_type": "code",
   "execution_count": 111,
   "id": "b7c603b6",
   "metadata": {},
   "outputs": [
    {
     "data": {
      "text/plain": [
       "GridSearchCV(cv=5,\n",
       "             estimator=Pipeline(steps=[('poly',\n",
       "                                        PolynomialFeatures(degree=1,\n",
       "                                                           include_bias=False)),\n",
       "                                       ('linear', LinearRegression())]),\n",
       "             param_grid={'poly__degree': [1, 2, 3, 4]},\n",
       "             scoring=make_scorer(r2_score))"
      ]
     },
     "execution_count": 111,
     "metadata": {},
     "output_type": "execute_result"
    }
   ],
   "source": [
    "from sklearn.model_selection import GridSearchCV\n",
    "\n",
    "# Validation\n",
    "model = Pipeline([('poly', PolynomialFeatures(degree=1, include_bias=False)),\n",
    "                  ('linear', LinearRegression(fit_intercept=True))])\n",
    "\n",
    "# Select parameters to optimize\n",
    "parameters = {'poly__degree': list(range(1,5))}\n",
    "              #'linear__fit_intercept': [True, False],\n",
    "              #'linear__normalize': [True, False]}\n",
    "\n",
    "cv = GridSearchCV(model, parameters, scoring=r2_scorer, cv=5, refit=True)\n",
    "cv.fit(X_train_small, y_train_small)"
   ]
  },
  {
   "cell_type": "code",
   "execution_count": 112,
   "id": "351af05b",
   "metadata": {},
   "outputs": [
    {
     "name": "stdout",
     "output_type": "stream",
     "text": [
      "Best degree: 1\n",
      "Train score: -0.03201952903706142\n",
      "Test score: 0.009496030812578216\n"
     ]
    }
   ],
   "source": [
    "model = cv.best_estimator_\n",
    "y_predict = model.predict(X_test_small)\n",
    "test_score = r2_score(y_test_small, y_predict)\n",
    "\n",
    "print(\"Best degree:\", cv.best_params_['poly__degree'])\n",
    "print(\"Train score:\", cv.best_score_)\n",
    "print(\"Test score:\", test_score)"
   ]
  },
  {
   "cell_type": "markdown",
   "id": "3a648892",
   "metadata": {},
   "source": [
    "## Best Feature Subset Selection"
   ]
  },
  {
   "cell_type": "markdown",
   "id": "49408a50",
   "metadata": {},
   "source": [
    "Since we have so many possible features and our model is bad this is not ideal. In order to understand if there are any difference with the forward selection i wanted to perform this selection too."
   ]
  },
  {
   "cell_type": "code",
   "execution_count": 67,
   "id": "c01a3bf9",
   "metadata": {},
   "outputs": [],
   "source": [
    "# Convert back from numpy arrays to data frames\n",
    "X_train_pd = pd.DataFrame(X_train, columns=X_all_features)\n",
    "X_test_pd = pd.DataFrame(X_test, columns=X_all_features)\n"
   ]
  },
  {
   "cell_type": "code",
   "execution_count": 68,
   "id": "063ac414",
   "metadata": {},
   "outputs": [
    {
     "data": {
      "text/html": [
       "<div>\n",
       "<style scoped>\n",
       "    .dataframe tbody tr th:only-of-type {\n",
       "        vertical-align: middle;\n",
       "    }\n",
       "\n",
       "    .dataframe tbody tr th {\n",
       "        vertical-align: top;\n",
       "    }\n",
       "\n",
       "    .dataframe thead th {\n",
       "        text-align: right;\n",
       "    }\n",
       "</style>\n",
       "<table border=\"1\" class=\"dataframe\">\n",
       "  <thead>\n",
       "    <tr style=\"text-align: right;\">\n",
       "      <th></th>\n",
       "      <th>X</th>\n",
       "    </tr>\n",
       "  </thead>\n",
       "  <tbody>\n",
       "    <tr>\n",
       "      <th>0</th>\n",
       "      <td>2.0</td>\n",
       "    </tr>\n",
       "    <tr>\n",
       "      <th>1</th>\n",
       "      <td>2.0</td>\n",
       "    </tr>\n",
       "    <tr>\n",
       "      <th>2</th>\n",
       "      <td>1.0</td>\n",
       "    </tr>\n",
       "    <tr>\n",
       "      <th>3</th>\n",
       "      <td>7.0</td>\n",
       "    </tr>\n",
       "    <tr>\n",
       "      <th>4</th>\n",
       "      <td>3.0</td>\n",
       "    </tr>\n",
       "  </tbody>\n",
       "</table>\n",
       "</div>"
      ],
      "text/plain": [
       "     X\n",
       "0  2.0\n",
       "1  2.0\n",
       "2  1.0\n",
       "3  7.0\n",
       "4  3.0"
      ]
     },
     "execution_count": 68,
     "metadata": {},
     "output_type": "execute_result"
    },
    {
     "data": {
      "text/html": [
       "<div>\n",
       "<style scoped>\n",
       "    .dataframe tbody tr th:only-of-type {\n",
       "        vertical-align: middle;\n",
       "    }\n",
       "\n",
       "    .dataframe tbody tr th {\n",
       "        vertical-align: top;\n",
       "    }\n",
       "\n",
       "    .dataframe thead th {\n",
       "        text-align: right;\n",
       "    }\n",
       "</style>\n",
       "<table border=\"1\" class=\"dataframe\">\n",
       "  <thead>\n",
       "    <tr style=\"text-align: right;\">\n",
       "      <th></th>\n",
       "      <th>Y</th>\n",
       "    </tr>\n",
       "  </thead>\n",
       "  <tbody>\n",
       "    <tr>\n",
       "      <th>0</th>\n",
       "      <td>2.0</td>\n",
       "    </tr>\n",
       "    <tr>\n",
       "      <th>1</th>\n",
       "      <td>5.0</td>\n",
       "    </tr>\n",
       "    <tr>\n",
       "      <th>2</th>\n",
       "      <td>4.0</td>\n",
       "    </tr>\n",
       "    <tr>\n",
       "      <th>3</th>\n",
       "      <td>4.0</td>\n",
       "    </tr>\n",
       "    <tr>\n",
       "      <th>4</th>\n",
       "      <td>4.0</td>\n",
       "    </tr>\n",
       "  </tbody>\n",
       "</table>\n",
       "</div>"
      ],
      "text/plain": [
       "     Y\n",
       "0  2.0\n",
       "1  5.0\n",
       "2  4.0\n",
       "3  4.0\n",
       "4  4.0"
      ]
     },
     "execution_count": 68,
     "metadata": {},
     "output_type": "execute_result"
    }
   ],
   "source": [
    "import itertools\n",
    "def get_subsets(X_pd, dim):\n",
    "    feature_names = X_pd.columns.tolist()\n",
    "    # Compute all possibile combinations of 'dim' values\n",
    "    subset_names = itertools.combinations(feature_names, dim) # list of list of names [[name of first candidate, ...], [...]]\n",
    "    # Convert names into datasets\n",
    "    data_subsets = [X_pd[list(fnames)] for fnames in subset_names]\n",
    "    return data_subsets\n",
    "\n",
    "subsets = get_subsets(X_train_pd, 1)\n",
    "subsets[0].head() # training set of the first subset\n",
    "subsets[1].head() # training set of the second subset"
   ]
  },
  {
   "cell_type": "markdown",
   "id": "7b8e7106",
   "metadata": {},
   "source": [
    "It takes X and Y. It's another confirm that all the other variables appear meaningless to the model."
   ]
  },
  {
   "cell_type": "code",
   "execution_count": 69,
   "id": "f7f47b59",
   "metadata": {},
   "outputs": [],
   "source": [
    "def get_evaluator(scorer):\n",
    "    def evaluator(model, X, y, trained=False):\n",
    "        if not trained:\n",
    "            model = model.fit(X, y)\n",
    "        score = scorer(model, X, y)\n",
    "        return model, score\n",
    "    return evaluator    "
   ]
  },
  {
   "cell_type": "code",
   "execution_count": 70,
   "id": "92464ba7",
   "metadata": {},
   "outputs": [],
   "source": [
    "from sklearn.dummy import DummyRegressor\n",
    "\n",
    "def subset_selection(Xtrain_pd, ytrain, Xtest_pd, ytest,\n",
    "                     candidates_evaluator, candidates_argbest, # Metric to be used at 2.b\n",
    "                     subsets_evaluator, subsets_argbest,       # Metric to be used at 3\n",
    "                     test_evaluator=None, test_argbest=None, # Metric to be used on the test set\n",
    "                     candidates_scorer_name=None,  # Name of 2. figure\n",
    "                     subsets_scorer_name=None,     # Name of 3. figure\n",
    "                     verbose=True, weight_step3=0):  \n",
    "    test_evaluator = subsets_evaluator if not test_evaluator else test_evaluator\n",
    "    test_argbest = subsets_argbest if not test_argbest else test_argbest\n",
    "    \n",
    "    # Global variable init\n",
    "    # ====================\n",
    "    num_features = Xtrain_pd.shape[-1]\n",
    "    best_candidate_metric = []\n",
    "    # subsets_* are lists containing one value for each Mk model (the best of the Mk candidates)\n",
    "    subsets_test = [] \n",
    "    subsets_metric = []        # The best metric of each subset of dimension 'dim'\n",
    "    subsets_best_features = [] # The best features combination in each subset of dimension 'dim'\n",
    "    # A figure to keep track of candidates scores in each Mk subset\n",
    "    plt.figure()\n",
    "    candidate_fig = plt.subplot(111) # A global matplotlib figure\n",
    "    num_evaluations = 0        # A counter to keep track of the total number of trials\n",
    "    \n",
    "    # 1. and 2. Evaluate all Mk candidates with\n",
    "    #           k=0...P features\n",
    "    # =========================================\n",
    "    for dim in range(num_features+1):\n",
    "        candidate_metrics = [] # Keep track of candidates metrics. Will be used to select the best\n",
    "        candidate_models = []  # Keep track of candidates trained models\n",
    "        \n",
    "        # 2.a Fixed the number of features 'dim', look at\n",
    "        #     all the possible candidate models with that\n",
    "        #     cardinality\n",
    "        # ===============================================\n",
    "        dim_subsets = get_subsets(Xtrain_pd, dim=dim)\n",
    "        for Xtrain_sub in dim_subsets:\n",
    "            \n",
    "            # Train the model on the subset\n",
    "            if Xtrain_sub.shape[-1] == 0:\n",
    "                # 1. Train the M0 model if the number of\n",
    "                #    features is zero!\n",
    "                # ======================================\n",
    "                model = DummyRegressor()\n",
    "            else:\n",
    "                model = LinearRegression(fit_intercept=True)\n",
    "            \n",
    "            model, score = candidates_evaluator(model, Xtrain_sub, ytrain)\n",
    "            candidate_models.append(model)\n",
    "            candidate_metrics.append(score)\n",
    "            num_evaluations += 1\n",
    "            \n",
    "        _ = candidate_fig.scatter([dim]*len(candidate_metrics), candidate_metrics,\n",
    "                                  color=\"b\")\n",
    "            \n",
    "        # 2.b Select the best candidate among those using\n",
    "        #     the same number of features (2.a)\n",
    "        # ===============================================\n",
    "        idx_best_candidate = candidates_argbest(candidate_metrics)\n",
    "        # Save best candidate features\n",
    "        best_features = dim_subsets[idx_best_candidate].columns.tolist()\n",
    "        best_candidate_metric.append(candidate_metrics[idx_best_candidate])\n",
    "        subsets_best_features.append(best_features)\n",
    "        \n",
    "        # Compute metric for step 3.\n",
    "        best_subset_model = candidate_models[idx_best_candidate]\n",
    "        best_subset_Xtrain = dim_subsets[idx_best_candidate]\n",
    "        _, score = subsets_evaluator(best_subset_model, best_subset_Xtrain, ytrain, trained=True)\n",
    "        subsets_metric.append(score)\n",
    "        best_subset_Xtest = Xtest_pd[best_subset_Xtrain.columns.tolist()]\n",
    "        _, score = test_evaluator(best_subset_model, best_subset_Xtest, ytest, trained=True)\n",
    "        subsets_test.append(score)\n",
    "        num_evaluations += weight_step3\n",
    "        \n",
    "        if verbose:\n",
    "            print(\"............\")\n",
    "            print(\"Best model (M{}) with {} features: {}\".format(dim, dim, best_features))\n",
    "            print(\"M{} subset score (3.): {}\".format(dim, score))\n",
    "        \n",
    "    # 3. Among all best candidates with increasing number\n",
    "    #    of features, select the best one\n",
    "    # ===================================================\n",
    "    best_subset_idx = subsets_argbest(subsets_metric)\n",
    "    best_features = subsets_best_features[best_subset_idx]\n",
    "    \n",
    "    if verbose:\n",
    "        print(\"\\n\\nBest configuration has {} features\".format(best_subset_idx))\n",
    "        print(\"Features: {}\".format(subsets_best_features[best_subset_idx]))\n",
    "        print(\"Total number of trained models:\", num_evaluations)\n",
    "    \n",
    "    # Complete the subsets_fig figure by plotting\n",
    "    # a line connecting all best candidate score\n",
    "    best_candidate_score_idx = candidates_argbest(best_candidate_metric)\n",
    "    _ = candidate_fig.plot(range(len(best_candidate_metric)), best_candidate_metric)\n",
    "    _ = candidate_fig.scatter(best_candidate_score_idx, best_candidate_metric[best_candidate_score_idx],\n",
    "                              marker='X', label=\"Best\", color=\"r\")\n",
    "    candidate_fig.set_title(candidates_scorer_name)\n",
    "    candidate_fig.legend()\n",
    "    \n",
    "    # Plot a figure to show how the 3. metric evolves\n",
    "    plt.figure()\n",
    "    subsets_fig = plt.subplot(111)\n",
    "    _ = subsets_fig.plot(range(len(subsets_metric)), subsets_metric, label=\"Selection (3.) scores\")\n",
    "    _ = subsets_fig.scatter(best_subset_idx, subsets_metric[best_subset_idx],\n",
    "                              marker='X', label=\"Best (3.) score\", color=\"r\")\n",
    "    best_test_score_idx = test_argbest(subsets_test)\n",
    "    _ = subsets_fig.plot(range(len(subsets_test)), subsets_test, label=\"Test scores\")\n",
    "    _ = subsets_fig.scatter(best_test_score_idx, subsets_test[best_test_score_idx],\n",
    "                              marker='X', label=\"Best test score\", color=\"y\")\n",
    "    subsets_fig.set_title(subsets_scorer_name)\n",
    "    subsets_fig.legend()\n",
    "\n"
   ]
  },
  {
   "cell_type": "code",
   "execution_count": 71,
   "id": "a0bf9ef8",
   "metadata": {},
   "outputs": [
    {
     "name": "stdout",
     "output_type": "stream",
     "text": [
      "............\n",
      "Best model (M0) with 0 features: []\n",
      "M0 subset score (3.): 2.04486626778766\n",
      "............\n",
      "Best model (M1) with 1 features: ['month_sep']\n",
      "M1 subset score (3.): 2.1695235837655993\n",
      "............\n",
      "Best model (M2) with 2 features: ['month_dec', 'month_sep']\n",
      "M2 subset score (3.): 2.1135529919072633\n",
      "............\n",
      "Best model (M3) with 3 features: ['month_dec', 'month_may', 'month_sep']\n",
      "M3 subset score (3.): 2.2018589056909565\n",
      "............\n",
      "Best model (M4) with 4 features: ['wind', 'month_dec', 'month_may', 'month_sep']\n",
      "M4 subset score (3.): 2.2529839336197135\n"
     ]
    },
    {
     "ename": "KeyboardInterrupt",
     "evalue": "",
     "output_type": "error",
     "traceback": [
      "\u001b[0;31m---------------------------------------------------------------------------\u001b[0m",
      "\u001b[0;31mKeyboardInterrupt\u001b[0m                         Traceback (most recent call last)",
      "\u001b[0;32m/var/folders/f1/5j4mb4nj2mb6v5z11m_hrtqr0000gn/T/ipykernel_6056/2609937762.py\u001b[0m in \u001b[0;36m<module>\u001b[0;34m\u001b[0m\n\u001b[0;32m----> 1\u001b[0;31m subset_selection(X_train_pd, y_train, X_test_pd, y_test,\n\u001b[0m\u001b[1;32m      2\u001b[0m                  \u001b[0mget_evaluator\u001b[0m\u001b[0;34m(\u001b[0m\u001b[0mmake_scorer\u001b[0m\u001b[0;34m(\u001b[0m\u001b[0mmean_squared_error\u001b[0m\u001b[0;34m)\u001b[0m\u001b[0;34m)\u001b[0m\u001b[0;34m,\u001b[0m \u001b[0mnp\u001b[0m\u001b[0;34m.\u001b[0m\u001b[0margmin\u001b[0m\u001b[0;34m,\u001b[0m\u001b[0;34m\u001b[0m\u001b[0;34m\u001b[0m\u001b[0m\n\u001b[1;32m      3\u001b[0m                  \u001b[0mget_evaluator\u001b[0m\u001b[0;34m(\u001b[0m\u001b[0mmake_scorer\u001b[0m\u001b[0;34m(\u001b[0m\u001b[0mmean_squared_error\u001b[0m\u001b[0;34m)\u001b[0m\u001b[0;34m)\u001b[0m\u001b[0;34m,\u001b[0m \u001b[0mnp\u001b[0m\u001b[0;34m.\u001b[0m\u001b[0margmin\u001b[0m\u001b[0;34m,\u001b[0m\u001b[0;34m\u001b[0m\u001b[0;34m\u001b[0m\u001b[0m\n\u001b[1;32m      4\u001b[0m                  \u001b[0mcandidates_scorer_name\u001b[0m\u001b[0;34m=\u001b[0m\u001b[0;34m\"MSE\"\u001b[0m\u001b[0;34m,\u001b[0m\u001b[0;34m\u001b[0m\u001b[0;34m\u001b[0m\u001b[0m\n\u001b[1;32m      5\u001b[0m                  \u001b[0msubsets_scorer_name\u001b[0m\u001b[0;34m=\u001b[0m\u001b[0;34m\"MSE\"\u001b[0m\u001b[0;34m,\u001b[0m\u001b[0;34m\u001b[0m\u001b[0;34m\u001b[0m\u001b[0m\n",
      "\u001b[0;32m/var/folders/f1/5j4mb4nj2mb6v5z11m_hrtqr0000gn/T/ipykernel_6056/1718851863.py\u001b[0m in \u001b[0;36msubset_selection\u001b[0;34m(Xtrain_pd, ytrain, Xtest_pd, ytest, candidates_evaluator, candidates_argbest, subsets_evaluator, subsets_argbest, test_evaluator, test_argbest, candidates_scorer_name, subsets_scorer_name, verbose, weight_step3)\u001b[0m\n\u001b[1;32m     47\u001b[0m                 \u001b[0mmodel\u001b[0m \u001b[0;34m=\u001b[0m \u001b[0mLinearRegression\u001b[0m\u001b[0;34m(\u001b[0m\u001b[0mfit_intercept\u001b[0m\u001b[0;34m=\u001b[0m\u001b[0;32mTrue\u001b[0m\u001b[0;34m)\u001b[0m\u001b[0;34m\u001b[0m\u001b[0;34m\u001b[0m\u001b[0m\n\u001b[1;32m     48\u001b[0m \u001b[0;34m\u001b[0m\u001b[0m\n\u001b[0;32m---> 49\u001b[0;31m             \u001b[0mmodel\u001b[0m\u001b[0;34m,\u001b[0m \u001b[0mscore\u001b[0m \u001b[0;34m=\u001b[0m \u001b[0mcandidates_evaluator\u001b[0m\u001b[0;34m(\u001b[0m\u001b[0mmodel\u001b[0m\u001b[0;34m,\u001b[0m \u001b[0mXtrain_sub\u001b[0m\u001b[0;34m,\u001b[0m \u001b[0mytrain\u001b[0m\u001b[0;34m)\u001b[0m\u001b[0;34m\u001b[0m\u001b[0;34m\u001b[0m\u001b[0m\n\u001b[0m\u001b[1;32m     50\u001b[0m             \u001b[0mcandidate_models\u001b[0m\u001b[0;34m.\u001b[0m\u001b[0mappend\u001b[0m\u001b[0;34m(\u001b[0m\u001b[0mmodel\u001b[0m\u001b[0;34m)\u001b[0m\u001b[0;34m\u001b[0m\u001b[0;34m\u001b[0m\u001b[0m\n\u001b[1;32m     51\u001b[0m             \u001b[0mcandidate_metrics\u001b[0m\u001b[0;34m.\u001b[0m\u001b[0mappend\u001b[0m\u001b[0;34m(\u001b[0m\u001b[0mscore\u001b[0m\u001b[0;34m)\u001b[0m\u001b[0;34m\u001b[0m\u001b[0;34m\u001b[0m\u001b[0m\n",
      "\u001b[0;32m/var/folders/f1/5j4mb4nj2mb6v5z11m_hrtqr0000gn/T/ipykernel_6056/2822136068.py\u001b[0m in \u001b[0;36mevaluator\u001b[0;34m(model, X, y, trained)\u001b[0m\n\u001b[1;32m      3\u001b[0m         \u001b[0;32mif\u001b[0m \u001b[0;32mnot\u001b[0m \u001b[0mtrained\u001b[0m\u001b[0;34m:\u001b[0m\u001b[0;34m\u001b[0m\u001b[0;34m\u001b[0m\u001b[0m\n\u001b[1;32m      4\u001b[0m             \u001b[0mmodel\u001b[0m \u001b[0;34m=\u001b[0m \u001b[0mmodel\u001b[0m\u001b[0;34m.\u001b[0m\u001b[0mfit\u001b[0m\u001b[0;34m(\u001b[0m\u001b[0mX\u001b[0m\u001b[0;34m,\u001b[0m \u001b[0my\u001b[0m\u001b[0;34m)\u001b[0m\u001b[0;34m\u001b[0m\u001b[0;34m\u001b[0m\u001b[0m\n\u001b[0;32m----> 5\u001b[0;31m         \u001b[0mscore\u001b[0m \u001b[0;34m=\u001b[0m \u001b[0mscorer\u001b[0m\u001b[0;34m(\u001b[0m\u001b[0mmodel\u001b[0m\u001b[0;34m,\u001b[0m \u001b[0mX\u001b[0m\u001b[0;34m,\u001b[0m \u001b[0my\u001b[0m\u001b[0;34m)\u001b[0m\u001b[0;34m\u001b[0m\u001b[0;34m\u001b[0m\u001b[0m\n\u001b[0m\u001b[1;32m      6\u001b[0m         \u001b[0;32mreturn\u001b[0m \u001b[0mmodel\u001b[0m\u001b[0;34m,\u001b[0m \u001b[0mscore\u001b[0m\u001b[0;34m\u001b[0m\u001b[0;34m\u001b[0m\u001b[0m\n\u001b[1;32m      7\u001b[0m     \u001b[0;32mreturn\u001b[0m \u001b[0mevaluator\u001b[0m\u001b[0;34m\u001b[0m\u001b[0;34m\u001b[0m\u001b[0m\n",
      "\u001b[0;32m~/opt/anaconda3/lib/python3.9/site-packages/sklearn/metrics/_scorer.py\u001b[0m in \u001b[0;36m__call__\u001b[0;34m(self, estimator, X, y_true, sample_weight)\u001b[0m\n\u001b[1;32m    197\u001b[0m             \u001b[0mScore\u001b[0m \u001b[0mfunction\u001b[0m \u001b[0mapplied\u001b[0m \u001b[0mto\u001b[0m \u001b[0mprediction\u001b[0m \u001b[0mof\u001b[0m \u001b[0mestimator\u001b[0m \u001b[0mon\u001b[0m \u001b[0mX\u001b[0m\u001b[0;34m.\u001b[0m\u001b[0;34m\u001b[0m\u001b[0;34m\u001b[0m\u001b[0m\n\u001b[1;32m    198\u001b[0m         \"\"\"\n\u001b[0;32m--> 199\u001b[0;31m         return self._score(partial(_cached_call, None), estimator, X, y_true,\n\u001b[0m\u001b[1;32m    200\u001b[0m                            sample_weight=sample_weight)\n\u001b[1;32m    201\u001b[0m \u001b[0;34m\u001b[0m\u001b[0m\n",
      "\u001b[0;32m~/opt/anaconda3/lib/python3.9/site-packages/sklearn/metrics/_scorer.py\u001b[0m in \u001b[0;36m_score\u001b[0;34m(self, method_caller, estimator, X, y_true, sample_weight)\u001b[0m\n\u001b[1;32m    234\u001b[0m         \"\"\"\n\u001b[1;32m    235\u001b[0m \u001b[0;34m\u001b[0m\u001b[0m\n\u001b[0;32m--> 236\u001b[0;31m         \u001b[0my_pred\u001b[0m \u001b[0;34m=\u001b[0m \u001b[0mmethod_caller\u001b[0m\u001b[0;34m(\u001b[0m\u001b[0mestimator\u001b[0m\u001b[0;34m,\u001b[0m \u001b[0;34m\"predict\"\u001b[0m\u001b[0;34m,\u001b[0m \u001b[0mX\u001b[0m\u001b[0;34m)\u001b[0m\u001b[0;34m\u001b[0m\u001b[0;34m\u001b[0m\u001b[0m\n\u001b[0m\u001b[1;32m    237\u001b[0m         \u001b[0;32mif\u001b[0m \u001b[0msample_weight\u001b[0m \u001b[0;32mis\u001b[0m \u001b[0;32mnot\u001b[0m \u001b[0;32mNone\u001b[0m\u001b[0;34m:\u001b[0m\u001b[0;34m\u001b[0m\u001b[0;34m\u001b[0m\u001b[0m\n\u001b[1;32m    238\u001b[0m             return self._sign * self._score_func(y_true, y_pred,\n",
      "\u001b[0;32m~/opt/anaconda3/lib/python3.9/site-packages/sklearn/metrics/_scorer.py\u001b[0m in \u001b[0;36m_cached_call\u001b[0;34m(cache, estimator, method, *args, **kwargs)\u001b[0m\n\u001b[1;32m     51\u001b[0m     \u001b[0;34m\"\"\"Call estimator with method and args and kwargs.\"\"\"\u001b[0m\u001b[0;34m\u001b[0m\u001b[0;34m\u001b[0m\u001b[0m\n\u001b[1;32m     52\u001b[0m     \u001b[0;32mif\u001b[0m \u001b[0mcache\u001b[0m \u001b[0;32mis\u001b[0m \u001b[0;32mNone\u001b[0m\u001b[0;34m:\u001b[0m\u001b[0;34m\u001b[0m\u001b[0;34m\u001b[0m\u001b[0m\n\u001b[0;32m---> 53\u001b[0;31m         \u001b[0;32mreturn\u001b[0m \u001b[0mgetattr\u001b[0m\u001b[0;34m(\u001b[0m\u001b[0mestimator\u001b[0m\u001b[0;34m,\u001b[0m \u001b[0mmethod\u001b[0m\u001b[0;34m)\u001b[0m\u001b[0;34m(\u001b[0m\u001b[0;34m*\u001b[0m\u001b[0margs\u001b[0m\u001b[0;34m,\u001b[0m \u001b[0;34m**\u001b[0m\u001b[0mkwargs\u001b[0m\u001b[0;34m)\u001b[0m\u001b[0;34m\u001b[0m\u001b[0;34m\u001b[0m\u001b[0m\n\u001b[0m\u001b[1;32m     54\u001b[0m \u001b[0;34m\u001b[0m\u001b[0m\n\u001b[1;32m     55\u001b[0m     \u001b[0;32mtry\u001b[0m\u001b[0;34m:\u001b[0m\u001b[0;34m\u001b[0m\u001b[0;34m\u001b[0m\u001b[0m\n",
      "\u001b[0;32m~/opt/anaconda3/lib/python3.9/site-packages/sklearn/linear_model/_base.py\u001b[0m in \u001b[0;36mpredict\u001b[0;34m(self, X)\u001b[0m\n\u001b[1;32m    236\u001b[0m             \u001b[0mReturns\u001b[0m \u001b[0mpredicted\u001b[0m \u001b[0mvalues\u001b[0m\u001b[0;34m.\u001b[0m\u001b[0;34m\u001b[0m\u001b[0;34m\u001b[0m\u001b[0m\n\u001b[1;32m    237\u001b[0m         \"\"\"\n\u001b[0;32m--> 238\u001b[0;31m         \u001b[0;32mreturn\u001b[0m \u001b[0mself\u001b[0m\u001b[0;34m.\u001b[0m\u001b[0m_decision_function\u001b[0m\u001b[0;34m(\u001b[0m\u001b[0mX\u001b[0m\u001b[0;34m)\u001b[0m\u001b[0;34m\u001b[0m\u001b[0;34m\u001b[0m\u001b[0m\n\u001b[0m\u001b[1;32m    239\u001b[0m \u001b[0;34m\u001b[0m\u001b[0m\n\u001b[1;32m    240\u001b[0m     \u001b[0m_preprocess_data\u001b[0m \u001b[0;34m=\u001b[0m \u001b[0mstaticmethod\u001b[0m\u001b[0;34m(\u001b[0m\u001b[0m_preprocess_data\u001b[0m\u001b[0;34m)\u001b[0m\u001b[0;34m\u001b[0m\u001b[0;34m\u001b[0m\u001b[0m\n",
      "\u001b[0;32m~/opt/anaconda3/lib/python3.9/site-packages/sklearn/linear_model/_base.py\u001b[0m in \u001b[0;36m_decision_function\u001b[0;34m(self, X)\u001b[0m\n\u001b[1;32m    218\u001b[0m         \u001b[0mcheck_is_fitted\u001b[0m\u001b[0;34m(\u001b[0m\u001b[0mself\u001b[0m\u001b[0;34m)\u001b[0m\u001b[0;34m\u001b[0m\u001b[0;34m\u001b[0m\u001b[0m\n\u001b[1;32m    219\u001b[0m \u001b[0;34m\u001b[0m\u001b[0m\n\u001b[0;32m--> 220\u001b[0;31m         \u001b[0mX\u001b[0m \u001b[0;34m=\u001b[0m \u001b[0mcheck_array\u001b[0m\u001b[0;34m(\u001b[0m\u001b[0mX\u001b[0m\u001b[0;34m,\u001b[0m \u001b[0maccept_sparse\u001b[0m\u001b[0;34m=\u001b[0m\u001b[0;34m[\u001b[0m\u001b[0;34m'csr'\u001b[0m\u001b[0;34m,\u001b[0m \u001b[0;34m'csc'\u001b[0m\u001b[0;34m,\u001b[0m \u001b[0;34m'coo'\u001b[0m\u001b[0;34m]\u001b[0m\u001b[0;34m)\u001b[0m\u001b[0;34m\u001b[0m\u001b[0;34m\u001b[0m\u001b[0m\n\u001b[0m\u001b[1;32m    221\u001b[0m         return safe_sparse_dot(X, self.coef_.T,\n\u001b[1;32m    222\u001b[0m                                dense_output=True) + self.intercept_\n",
      "\u001b[0;32m~/opt/anaconda3/lib/python3.9/site-packages/sklearn/utils/validation.py\u001b[0m in \u001b[0;36minner_f\u001b[0;34m(*args, **kwargs)\u001b[0m\n\u001b[1;32m     61\u001b[0m             \u001b[0mextra_args\u001b[0m \u001b[0;34m=\u001b[0m \u001b[0mlen\u001b[0m\u001b[0;34m(\u001b[0m\u001b[0margs\u001b[0m\u001b[0;34m)\u001b[0m \u001b[0;34m-\u001b[0m \u001b[0mlen\u001b[0m\u001b[0;34m(\u001b[0m\u001b[0mall_args\u001b[0m\u001b[0;34m)\u001b[0m\u001b[0;34m\u001b[0m\u001b[0;34m\u001b[0m\u001b[0m\n\u001b[1;32m     62\u001b[0m             \u001b[0;32mif\u001b[0m \u001b[0mextra_args\u001b[0m \u001b[0;34m<=\u001b[0m \u001b[0;36m0\u001b[0m\u001b[0;34m:\u001b[0m\u001b[0;34m\u001b[0m\u001b[0;34m\u001b[0m\u001b[0m\n\u001b[0;32m---> 63\u001b[0;31m                 \u001b[0;32mreturn\u001b[0m \u001b[0mf\u001b[0m\u001b[0;34m(\u001b[0m\u001b[0;34m*\u001b[0m\u001b[0margs\u001b[0m\u001b[0;34m,\u001b[0m \u001b[0;34m**\u001b[0m\u001b[0mkwargs\u001b[0m\u001b[0;34m)\u001b[0m\u001b[0;34m\u001b[0m\u001b[0;34m\u001b[0m\u001b[0m\n\u001b[0m\u001b[1;32m     64\u001b[0m \u001b[0;34m\u001b[0m\u001b[0m\n\u001b[1;32m     65\u001b[0m             \u001b[0;31m# extra_args > 0\u001b[0m\u001b[0;34m\u001b[0m\u001b[0;34m\u001b[0m\u001b[0m\n",
      "\u001b[0;32m~/opt/anaconda3/lib/python3.9/site-packages/sklearn/utils/validation.py\u001b[0m in \u001b[0;36mcheck_array\u001b[0;34m(array, accept_sparse, accept_large_sparse, dtype, order, copy, force_all_finite, ensure_2d, allow_nd, ensure_min_samples, ensure_min_features, estimator)\u001b[0m\n\u001b[1;32m    569\u001b[0m             \u001b[0;32mfrom\u001b[0m \u001b[0mpandas\u001b[0m\u001b[0;34m.\u001b[0m\u001b[0mapi\u001b[0m\u001b[0;34m.\u001b[0m\u001b[0mtypes\u001b[0m \u001b[0;32mimport\u001b[0m \u001b[0mis_sparse\u001b[0m\u001b[0;34m\u001b[0m\u001b[0;34m\u001b[0m\u001b[0m\n\u001b[1;32m    570\u001b[0m             if (not hasattr(array, 'sparse') and\n\u001b[0;32m--> 571\u001b[0;31m                     array.dtypes.apply(is_sparse).any()):\n\u001b[0m\u001b[1;32m    572\u001b[0m                 warnings.warn(\n\u001b[1;32m    573\u001b[0m                     \u001b[0;34m\"pandas.DataFrame with sparse columns found.\"\u001b[0m\u001b[0;34m\u001b[0m\u001b[0;34m\u001b[0m\u001b[0m\n",
      "\u001b[0;32m~/opt/anaconda3/lib/python3.9/site-packages/pandas/core/series.py\u001b[0m in \u001b[0;36mapply\u001b[0;34m(self, func, convert_dtype, args, **kwargs)\u001b[0m\n\u001b[1;32m   4355\u001b[0m         \u001b[0mdtype\u001b[0m\u001b[0;34m:\u001b[0m \u001b[0mfloat64\u001b[0m\u001b[0;34m\u001b[0m\u001b[0;34m\u001b[0m\u001b[0m\n\u001b[1;32m   4356\u001b[0m         \"\"\"\n\u001b[0;32m-> 4357\u001b[0;31m         \u001b[0;32mreturn\u001b[0m \u001b[0mSeriesApply\u001b[0m\u001b[0;34m(\u001b[0m\u001b[0mself\u001b[0m\u001b[0;34m,\u001b[0m \u001b[0mfunc\u001b[0m\u001b[0;34m,\u001b[0m \u001b[0mconvert_dtype\u001b[0m\u001b[0;34m,\u001b[0m \u001b[0margs\u001b[0m\u001b[0;34m,\u001b[0m \u001b[0mkwargs\u001b[0m\u001b[0;34m)\u001b[0m\u001b[0;34m.\u001b[0m\u001b[0mapply\u001b[0m\u001b[0;34m(\u001b[0m\u001b[0;34m)\u001b[0m\u001b[0;34m\u001b[0m\u001b[0;34m\u001b[0m\u001b[0m\n\u001b[0m\u001b[1;32m   4358\u001b[0m \u001b[0;34m\u001b[0m\u001b[0m\n\u001b[1;32m   4359\u001b[0m     def _reduce(\n",
      "\u001b[0;32m~/opt/anaconda3/lib/python3.9/site-packages/pandas/core/apply.py\u001b[0m in \u001b[0;36mapply\u001b[0;34m(self)\u001b[0m\n\u001b[1;32m   1041\u001b[0m             \u001b[0;32mreturn\u001b[0m \u001b[0mself\u001b[0m\u001b[0;34m.\u001b[0m\u001b[0mapply_str\u001b[0m\u001b[0;34m(\u001b[0m\u001b[0;34m)\u001b[0m\u001b[0;34m\u001b[0m\u001b[0;34m\u001b[0m\u001b[0m\n\u001b[1;32m   1042\u001b[0m \u001b[0;34m\u001b[0m\u001b[0m\n\u001b[0;32m-> 1043\u001b[0;31m         \u001b[0;32mreturn\u001b[0m \u001b[0mself\u001b[0m\u001b[0;34m.\u001b[0m\u001b[0mapply_standard\u001b[0m\u001b[0;34m(\u001b[0m\u001b[0;34m)\u001b[0m\u001b[0;34m\u001b[0m\u001b[0;34m\u001b[0m\u001b[0m\n\u001b[0m\u001b[1;32m   1044\u001b[0m \u001b[0;34m\u001b[0m\u001b[0m\n\u001b[1;32m   1045\u001b[0m     \u001b[0;32mdef\u001b[0m \u001b[0magg\u001b[0m\u001b[0;34m(\u001b[0m\u001b[0mself\u001b[0m\u001b[0;34m)\u001b[0m\u001b[0;34m:\u001b[0m\u001b[0;34m\u001b[0m\u001b[0;34m\u001b[0m\u001b[0m\n",
      "\u001b[0;32m~/opt/anaconda3/lib/python3.9/site-packages/pandas/core/apply.py\u001b[0m in \u001b[0;36mapply_standard\u001b[0;34m(self)\u001b[0m\n\u001b[1;32m   1096\u001b[0m                 \u001b[0;31m# List[Union[Callable[..., Any], str]]]]]\"; expected\u001b[0m\u001b[0;34m\u001b[0m\u001b[0;34m\u001b[0m\u001b[0m\n\u001b[1;32m   1097\u001b[0m                 \u001b[0;31m# \"Callable[[Any], Any]\"\u001b[0m\u001b[0;34m\u001b[0m\u001b[0;34m\u001b[0m\u001b[0m\n\u001b[0;32m-> 1098\u001b[0;31m                 mapped = lib.map_infer(\n\u001b[0m\u001b[1;32m   1099\u001b[0m                     \u001b[0mvalues\u001b[0m\u001b[0;34m,\u001b[0m\u001b[0;34m\u001b[0m\u001b[0;34m\u001b[0m\u001b[0m\n\u001b[1;32m   1100\u001b[0m                     \u001b[0mf\u001b[0m\u001b[0;34m,\u001b[0m  \u001b[0;31m# type: ignore[arg-type]\u001b[0m\u001b[0;34m\u001b[0m\u001b[0;34m\u001b[0m\u001b[0m\n",
      "\u001b[0;32m~/opt/anaconda3/lib/python3.9/site-packages/numpy/core/_ufunc_config.py\u001b[0m in \u001b[0;36m__exit__\u001b[0;34m(self, *exc_info)\u001b[0m\n\u001b[1;32m    437\u001b[0m \u001b[0;34m\u001b[0m\u001b[0m\n\u001b[1;32m    438\u001b[0m     \u001b[0;32mdef\u001b[0m \u001b[0m__exit__\u001b[0m\u001b[0;34m(\u001b[0m\u001b[0mself\u001b[0m\u001b[0;34m,\u001b[0m \u001b[0;34m*\u001b[0m\u001b[0mexc_info\u001b[0m\u001b[0;34m)\u001b[0m\u001b[0;34m:\u001b[0m\u001b[0;34m\u001b[0m\u001b[0;34m\u001b[0m\u001b[0m\n\u001b[0;32m--> 439\u001b[0;31m         \u001b[0mseterr\u001b[0m\u001b[0;34m(\u001b[0m\u001b[0;34m**\u001b[0m\u001b[0mself\u001b[0m\u001b[0;34m.\u001b[0m\u001b[0moldstate\u001b[0m\u001b[0;34m)\u001b[0m\u001b[0;34m\u001b[0m\u001b[0;34m\u001b[0m\u001b[0m\n\u001b[0m\u001b[1;32m    440\u001b[0m         \u001b[0;32mif\u001b[0m \u001b[0mself\u001b[0m\u001b[0;34m.\u001b[0m\u001b[0mcall\u001b[0m \u001b[0;32mis\u001b[0m \u001b[0;32mnot\u001b[0m \u001b[0m_Unspecified\u001b[0m\u001b[0;34m:\u001b[0m\u001b[0;34m\u001b[0m\u001b[0;34m\u001b[0m\u001b[0m\n\u001b[1;32m    441\u001b[0m             \u001b[0mseterrcall\u001b[0m\u001b[0;34m(\u001b[0m\u001b[0mself\u001b[0m\u001b[0;34m.\u001b[0m\u001b[0moldcall\u001b[0m\u001b[0;34m)\u001b[0m\u001b[0;34m\u001b[0m\u001b[0;34m\u001b[0m\u001b[0m\n",
      "\u001b[0;32m~/opt/anaconda3/lib/python3.9/site-packages/numpy/core/_ufunc_config.py\u001b[0m in \u001b[0;36mseterr\u001b[0;34m(all, divide, over, under, invalid)\u001b[0m\n\u001b[1;32m    126\u001b[0m \u001b[0;34m\u001b[0m\u001b[0m\n\u001b[1;32m    127\u001b[0m     \u001b[0mpyvals\u001b[0m\u001b[0;34m[\u001b[0m\u001b[0;36m1\u001b[0m\u001b[0;34m]\u001b[0m \u001b[0;34m=\u001b[0m \u001b[0mmaskvalue\u001b[0m\u001b[0;34m\u001b[0m\u001b[0;34m\u001b[0m\u001b[0m\n\u001b[0;32m--> 128\u001b[0;31m     \u001b[0mumath\u001b[0m\u001b[0;34m.\u001b[0m\u001b[0mseterrobj\u001b[0m\u001b[0;34m(\u001b[0m\u001b[0mpyvals\u001b[0m\u001b[0;34m)\u001b[0m\u001b[0;34m\u001b[0m\u001b[0;34m\u001b[0m\u001b[0m\n\u001b[0m\u001b[1;32m    129\u001b[0m     \u001b[0;32mreturn\u001b[0m \u001b[0mold\u001b[0m\u001b[0;34m\u001b[0m\u001b[0;34m\u001b[0m\u001b[0m\n\u001b[1;32m    130\u001b[0m \u001b[0;34m\u001b[0m\u001b[0m\n",
      "\u001b[0;31mKeyboardInterrupt\u001b[0m: "
     ]
    },
    {
     "data": {
      "image/png": "[encoded data removed]",
      "text/plain": [
       "<Figure size 432x288 with 1 Axes>"
      ]
     },
     "metadata": {
      "needs_background": "light"
     },
     "output_type": "display_data"
    }
   ],
   "source": [
    "subset_selection(X_train_pd, y_train, X_test_pd, y_test,\n",
    "                 get_evaluator(make_scorer(mean_squared_error)), np.argmin,\n",
    "                 get_evaluator(make_scorer(mean_squared_error)), np.argmin,\n",
    "                 candidates_scorer_name=\"MSE\",\n",
    "                 subsets_scorer_name=\"MSE\",\n",
    "                 verbose=True)\n",
    "\n",
    "#subset_selection(X_train_pd, y_train, X_test_pd, y_test,\n",
    "#                 #...use RSS evaluator...\n",
    "#                 #...use RSS evaluator...\n",
    "#                 candidates_scorer_name=\"RSS\",\n",
    "#                 subsets_scorer_name=\"RSS\",\n",
    "#                 verbose=False)"
   ]
  },
  {
   "cell_type": "markdown",
   "id": "ffc791ae",
   "metadata": {},
   "source": [
    "We obntain only months until M4 in which we find 'wind'. \n",
    "\n",
    "\n",
    "¶On every attempt the best model with 1 feature is month_sept, maybe because it's the month with higher observation and higher values.¶\n"
   ]
  },
  {
   "cell_type": "markdown",
   "id": "f6781066",
   "metadata": {},
   "source": [
    "#### Sigma score"
   ]
  },
  {
   "cell_type": "code",
   "execution_count": 79,
   "id": "9f32540c",
   "metadata": {},
   "outputs": [],
   "source": [
    "def estimate_sigma(Xtrain_pd, ytrain):\n",
    "    # Sigma is usually estimated using the model with all features\n",
    "    n, p = Xtrain_pd.shape\n",
    "    model = LinearRegression(fit_intercept=True)\n",
    "    model.fit(Xtrain_pd, ytrain)\n",
    "    y_pred = model.predict(Xtrain_pd)\n",
    "    RSS = rss(y_pred, ytrain)\n",
    "    RSE = np.sqrt(RSS / (n-p))\n",
    "    return RSE\n",
    "\n",
    "def cp(y_pred, y_true, n, d, sigma):\n",
    "    sigma2 = sigma**2\n",
    "    return (rss(y_pred, y_true) + 2*d*sigma2) / n\n",
    "\n",
    "def aic(y_pred, y_true, n, d, sigma):\n",
    "    sigma2 = sigma**2\n",
    "    return (rss(y_pred, y_true) + 2*d*sigma2) / (n*sigma2)\n",
    "\n",
    "def bic(y_pred, y_true, n, d, sigma):\n",
    "    sigma2 = sigma**2\n",
    "    return (rss(y_pred, y_true) + np.log(n)*d*sigma2) / (n*sigma2)\n",
    "\n",
    "def adj_r2(y_pred, y_true, n, d, sigma):\n",
    "    sigma2 = sigma**2\n",
    "    RSS = rss(y_pred, y_true)\n",
    "    TSS = tss(y_true)\n",
    "    return 1 - (RSS/(n-d-1)) / (TSS/(n-1))"
   ]
  },
  {
   "cell_type": "code",
   "execution_count": 81,
   "id": "66eb4b3a",
   "metadata": {},
   "outputs": [
    {
     "name": "stdout",
     "output_type": "stream",
     "text": [
      "............\n",
      "Best model (M0) with 0 features: []\n",
      "M0 subset score (3.): 2.04486626778766\n",
      "............\n",
      "Best model (M1) with 1 features: ['month_sep']\n",
      "M1 subset score (3.): 2.1695235837655993\n",
      "............\n",
      "Best model (M2) with 2 features: ['month_dec', 'month_sep']\n",
      "M2 subset score (3.): 2.1135529919072633\n",
      "............\n",
      "Best model (M3) with 3 features: ['month_dec', 'month_may', 'month_sep']\n",
      "M3 subset score (3.): 2.2018589056909565\n",
      "............\n",
      "Best model (M4) with 4 features: ['wind', 'month_dec', 'month_may', 'month_sep']\n",
      "M4 subset score (3.): 2.2529839336197135\n"
     ]
    },
    {
     "ename": "KeyboardInterrupt",
     "evalue": "",
     "output_type": "error",
     "traceback": [
      "\u001b[0;31m---------------------------------------------------------------------------\u001b[0m",
      "\u001b[0;31mKeyboardInterrupt\u001b[0m                         Traceback (most recent call last)",
      "\u001b[0;32m/var/folders/f1/5j4mb4nj2mb6v5z11m_hrtqr0000gn/T/ipykernel_6056/2745060881.py\u001b[0m in \u001b[0;36m<module>\u001b[0;34m\u001b[0m\n\u001b[1;32m      8\u001b[0m \u001b[0;34m\u001b[0m\u001b[0m\n\u001b[1;32m      9\u001b[0m \u001b[0msigma\u001b[0m \u001b[0;34m=\u001b[0m \u001b[0mestimate_sigma\u001b[0m\u001b[0;34m(\u001b[0m\u001b[0mX_train_pd\u001b[0m\u001b[0;34m,\u001b[0m \u001b[0my_train\u001b[0m\u001b[0;34m)\u001b[0m\u001b[0;34m\u001b[0m\u001b[0;34m\u001b[0m\u001b[0m\n\u001b[0;32m---> 10\u001b[0;31m subset_selection(X_train_pd, y_train, X_test_pd, y_test,\n\u001b[0m\u001b[1;32m     11\u001b[0m                  \u001b[0mget_evaluator\u001b[0m\u001b[0;34m(\u001b[0m\u001b[0mmake_scorer\u001b[0m\u001b[0;34m(\u001b[0m\u001b[0mrss\u001b[0m\u001b[0;34m)\u001b[0m\u001b[0;34m)\u001b[0m\u001b[0;34m,\u001b[0m \u001b[0mnp\u001b[0m\u001b[0;34m.\u001b[0m\u001b[0margmin\u001b[0m\u001b[0;34m,\u001b[0m \u001b[0;31m# 2.\u001b[0m\u001b[0;34m\u001b[0m\u001b[0;34m\u001b[0m\u001b[0m\n\u001b[1;32m     12\u001b[0m                  \u001b[0mget_evaluator\u001b[0m\u001b[0;34m(\u001b[0m\u001b[0mget_sigma_scorer\u001b[0m\u001b[0;34m(\u001b[0m\u001b[0mbic\u001b[0m\u001b[0;34m,\u001b[0m \u001b[0msigma\u001b[0m\u001b[0;34m)\u001b[0m\u001b[0;34m)\u001b[0m\u001b[0;34m,\u001b[0m \u001b[0mnp\u001b[0m\u001b[0;34m.\u001b[0m\u001b[0margmin\u001b[0m\u001b[0;34m,\u001b[0m \u001b[0;31m# 3.\u001b[0m\u001b[0;34m\u001b[0m\u001b[0;34m\u001b[0m\u001b[0m\n",
      "\u001b[0;32m/var/folders/f1/5j4mb4nj2mb6v5z11m_hrtqr0000gn/T/ipykernel_6056/1718851863.py\u001b[0m in \u001b[0;36msubset_selection\u001b[0;34m(Xtrain_pd, ytrain, Xtest_pd, ytest, candidates_evaluator, candidates_argbest, subsets_evaluator, subsets_argbest, test_evaluator, test_argbest, candidates_scorer_name, subsets_scorer_name, verbose, weight_step3)\u001b[0m\n\u001b[1;32m     47\u001b[0m                 \u001b[0mmodel\u001b[0m \u001b[0;34m=\u001b[0m \u001b[0mLinearRegression\u001b[0m\u001b[0;34m(\u001b[0m\u001b[0mfit_intercept\u001b[0m\u001b[0;34m=\u001b[0m\u001b[0;32mTrue\u001b[0m\u001b[0;34m)\u001b[0m\u001b[0;34m\u001b[0m\u001b[0;34m\u001b[0m\u001b[0m\n\u001b[1;32m     48\u001b[0m \u001b[0;34m\u001b[0m\u001b[0m\n\u001b[0;32m---> 49\u001b[0;31m             \u001b[0mmodel\u001b[0m\u001b[0;34m,\u001b[0m \u001b[0mscore\u001b[0m \u001b[0;34m=\u001b[0m \u001b[0mcandidates_evaluator\u001b[0m\u001b[0;34m(\u001b[0m\u001b[0mmodel\u001b[0m\u001b[0;34m,\u001b[0m \u001b[0mXtrain_sub\u001b[0m\u001b[0;34m,\u001b[0m \u001b[0mytrain\u001b[0m\u001b[0;34m)\u001b[0m\u001b[0;34m\u001b[0m\u001b[0;34m\u001b[0m\u001b[0m\n\u001b[0m\u001b[1;32m     50\u001b[0m             \u001b[0mcandidate_models\u001b[0m\u001b[0;34m.\u001b[0m\u001b[0mappend\u001b[0m\u001b[0;34m(\u001b[0m\u001b[0mmodel\u001b[0m\u001b[0;34m)\u001b[0m\u001b[0;34m\u001b[0m\u001b[0;34m\u001b[0m\u001b[0m\n\u001b[1;32m     51\u001b[0m             \u001b[0mcandidate_metrics\u001b[0m\u001b[0;34m.\u001b[0m\u001b[0mappend\u001b[0m\u001b[0;34m(\u001b[0m\u001b[0mscore\u001b[0m\u001b[0;34m)\u001b[0m\u001b[0;34m\u001b[0m\u001b[0;34m\u001b[0m\u001b[0m\n",
      "\u001b[0;32m/var/folders/f1/5j4mb4nj2mb6v5z11m_hrtqr0000gn/T/ipykernel_6056/2822136068.py\u001b[0m in \u001b[0;36mevaluator\u001b[0;34m(model, X, y, trained)\u001b[0m\n\u001b[1;32m      2\u001b[0m     \u001b[0;32mdef\u001b[0m \u001b[0mevaluator\u001b[0m\u001b[0;34m(\u001b[0m\u001b[0mmodel\u001b[0m\u001b[0;34m,\u001b[0m \u001b[0mX\u001b[0m\u001b[0;34m,\u001b[0m \u001b[0my\u001b[0m\u001b[0;34m,\u001b[0m \u001b[0mtrained\u001b[0m\u001b[0;34m=\u001b[0m\u001b[0;32mFalse\u001b[0m\u001b[0;34m)\u001b[0m\u001b[0;34m:\u001b[0m\u001b[0;34m\u001b[0m\u001b[0;34m\u001b[0m\u001b[0m\n\u001b[1;32m      3\u001b[0m         \u001b[0;32mif\u001b[0m \u001b[0;32mnot\u001b[0m \u001b[0mtrained\u001b[0m\u001b[0;34m:\u001b[0m\u001b[0;34m\u001b[0m\u001b[0;34m\u001b[0m\u001b[0m\n\u001b[0;32m----> 4\u001b[0;31m             \u001b[0mmodel\u001b[0m \u001b[0;34m=\u001b[0m \u001b[0mmodel\u001b[0m\u001b[0;34m.\u001b[0m\u001b[0mfit\u001b[0m\u001b[0;34m(\u001b[0m\u001b[0mX\u001b[0m\u001b[0;34m,\u001b[0m \u001b[0my\u001b[0m\u001b[0;34m)\u001b[0m\u001b[0;34m\u001b[0m\u001b[0;34m\u001b[0m\u001b[0m\n\u001b[0m\u001b[1;32m      5\u001b[0m         \u001b[0mscore\u001b[0m \u001b[0;34m=\u001b[0m \u001b[0mscorer\u001b[0m\u001b[0;34m(\u001b[0m\u001b[0mmodel\u001b[0m\u001b[0;34m,\u001b[0m \u001b[0mX\u001b[0m\u001b[0;34m,\u001b[0m \u001b[0my\u001b[0m\u001b[0;34m)\u001b[0m\u001b[0;34m\u001b[0m\u001b[0;34m\u001b[0m\u001b[0m\n\u001b[1;32m      6\u001b[0m         \u001b[0;32mreturn\u001b[0m \u001b[0mmodel\u001b[0m\u001b[0;34m,\u001b[0m \u001b[0mscore\u001b[0m\u001b[0;34m\u001b[0m\u001b[0;34m\u001b[0m\u001b[0m\n",
      "\u001b[0;32m~/opt/anaconda3/lib/python3.9/site-packages/sklearn/linear_model/_base.py\u001b[0m in \u001b[0;36mfit\u001b[0;34m(self, X, y, sample_weight)\u001b[0m\n\u001b[1;32m    516\u001b[0m         \u001b[0maccept_sparse\u001b[0m \u001b[0;34m=\u001b[0m \u001b[0;32mFalse\u001b[0m \u001b[0;32mif\u001b[0m \u001b[0mself\u001b[0m\u001b[0;34m.\u001b[0m\u001b[0mpositive\u001b[0m \u001b[0;32melse\u001b[0m \u001b[0;34m[\u001b[0m\u001b[0;34m'csr'\u001b[0m\u001b[0;34m,\u001b[0m \u001b[0;34m'csc'\u001b[0m\u001b[0;34m,\u001b[0m \u001b[0;34m'coo'\u001b[0m\u001b[0;34m]\u001b[0m\u001b[0;34m\u001b[0m\u001b[0;34m\u001b[0m\u001b[0m\n\u001b[1;32m    517\u001b[0m \u001b[0;34m\u001b[0m\u001b[0m\n\u001b[0;32m--> 518\u001b[0;31m         X, y = self._validate_data(X, y, accept_sparse=accept_sparse,\n\u001b[0m\u001b[1;32m    519\u001b[0m                                    y_numeric=True, multi_output=True)\n\u001b[1;32m    520\u001b[0m \u001b[0;34m\u001b[0m\u001b[0m\n",
      "\u001b[0;32m~/opt/anaconda3/lib/python3.9/site-packages/sklearn/base.py\u001b[0m in \u001b[0;36m_validate_data\u001b[0;34m(self, X, y, reset, validate_separately, **check_params)\u001b[0m\n\u001b[1;32m    431\u001b[0m                 \u001b[0my\u001b[0m \u001b[0;34m=\u001b[0m \u001b[0mcheck_array\u001b[0m\u001b[0;34m(\u001b[0m\u001b[0my\u001b[0m\u001b[0;34m,\u001b[0m \u001b[0;34m**\u001b[0m\u001b[0mcheck_y_params\u001b[0m\u001b[0;34m)\u001b[0m\u001b[0;34m\u001b[0m\u001b[0;34m\u001b[0m\u001b[0m\n\u001b[1;32m    432\u001b[0m             \u001b[0;32melse\u001b[0m\u001b[0;34m:\u001b[0m\u001b[0;34m\u001b[0m\u001b[0;34m\u001b[0m\u001b[0m\n\u001b[0;32m--> 433\u001b[0;31m                 \u001b[0mX\u001b[0m\u001b[0;34m,\u001b[0m \u001b[0my\u001b[0m \u001b[0;34m=\u001b[0m \u001b[0mcheck_X_y\u001b[0m\u001b[0;34m(\u001b[0m\u001b[0mX\u001b[0m\u001b[0;34m,\u001b[0m \u001b[0my\u001b[0m\u001b[0;34m,\u001b[0m \u001b[0;34m**\u001b[0m\u001b[0mcheck_params\u001b[0m\u001b[0;34m)\u001b[0m\u001b[0;34m\u001b[0m\u001b[0;34m\u001b[0m\u001b[0m\n\u001b[0m\u001b[1;32m    434\u001b[0m             \u001b[0mout\u001b[0m \u001b[0;34m=\u001b[0m \u001b[0mX\u001b[0m\u001b[0;34m,\u001b[0m \u001b[0my\u001b[0m\u001b[0;34m\u001b[0m\u001b[0;34m\u001b[0m\u001b[0m\n\u001b[1;32m    435\u001b[0m \u001b[0;34m\u001b[0m\u001b[0m\n",
      "\u001b[0;32m~/opt/anaconda3/lib/python3.9/site-packages/sklearn/utils/validation.py\u001b[0m in \u001b[0;36minner_f\u001b[0;34m(*args, **kwargs)\u001b[0m\n\u001b[1;32m     61\u001b[0m             \u001b[0mextra_args\u001b[0m \u001b[0;34m=\u001b[0m \u001b[0mlen\u001b[0m\u001b[0;34m(\u001b[0m\u001b[0margs\u001b[0m\u001b[0;34m)\u001b[0m \u001b[0;34m-\u001b[0m \u001b[0mlen\u001b[0m\u001b[0;34m(\u001b[0m\u001b[0mall_args\u001b[0m\u001b[0;34m)\u001b[0m\u001b[0;34m\u001b[0m\u001b[0;34m\u001b[0m\u001b[0m\n\u001b[1;32m     62\u001b[0m             \u001b[0;32mif\u001b[0m \u001b[0mextra_args\u001b[0m \u001b[0;34m<=\u001b[0m \u001b[0;36m0\u001b[0m\u001b[0;34m:\u001b[0m\u001b[0;34m\u001b[0m\u001b[0;34m\u001b[0m\u001b[0m\n\u001b[0;32m---> 63\u001b[0;31m                 \u001b[0;32mreturn\u001b[0m \u001b[0mf\u001b[0m\u001b[0;34m(\u001b[0m\u001b[0;34m*\u001b[0m\u001b[0margs\u001b[0m\u001b[0;34m,\u001b[0m \u001b[0;34m**\u001b[0m\u001b[0mkwargs\u001b[0m\u001b[0;34m)\u001b[0m\u001b[0;34m\u001b[0m\u001b[0;34m\u001b[0m\u001b[0m\n\u001b[0m\u001b[1;32m     64\u001b[0m \u001b[0;34m\u001b[0m\u001b[0m\n\u001b[1;32m     65\u001b[0m             \u001b[0;31m# extra_args > 0\u001b[0m\u001b[0;34m\u001b[0m\u001b[0;34m\u001b[0m\u001b[0m\n",
      "\u001b[0;32m~/opt/anaconda3/lib/python3.9/site-packages/sklearn/utils/validation.py\u001b[0m in \u001b[0;36mcheck_X_y\u001b[0;34m(X, y, accept_sparse, accept_large_sparse, dtype, order, copy, force_all_finite, ensure_2d, allow_nd, multi_output, ensure_min_samples, ensure_min_features, y_numeric, estimator)\u001b[0m\n\u001b[1;32m    869\u001b[0m         \u001b[0;32mraise\u001b[0m \u001b[0mValueError\u001b[0m\u001b[0;34m(\u001b[0m\u001b[0;34m\"y cannot be None\"\u001b[0m\u001b[0;34m)\u001b[0m\u001b[0;34m\u001b[0m\u001b[0;34m\u001b[0m\u001b[0m\n\u001b[1;32m    870\u001b[0m \u001b[0;34m\u001b[0m\u001b[0m\n\u001b[0;32m--> 871\u001b[0;31m     X = check_array(X, accept_sparse=accept_sparse,\n\u001b[0m\u001b[1;32m    872\u001b[0m                     \u001b[0maccept_large_sparse\u001b[0m\u001b[0;34m=\u001b[0m\u001b[0maccept_large_sparse\u001b[0m\u001b[0;34m,\u001b[0m\u001b[0;34m\u001b[0m\u001b[0;34m\u001b[0m\u001b[0m\n\u001b[1;32m    873\u001b[0m                     \u001b[0mdtype\u001b[0m\u001b[0;34m=\u001b[0m\u001b[0mdtype\u001b[0m\u001b[0;34m,\u001b[0m \u001b[0morder\u001b[0m\u001b[0;34m=\u001b[0m\u001b[0morder\u001b[0m\u001b[0;34m,\u001b[0m \u001b[0mcopy\u001b[0m\u001b[0;34m=\u001b[0m\u001b[0mcopy\u001b[0m\u001b[0;34m,\u001b[0m\u001b[0;34m\u001b[0m\u001b[0;34m\u001b[0m\u001b[0m\n",
      "\u001b[0;32m~/opt/anaconda3/lib/python3.9/site-packages/sklearn/utils/validation.py\u001b[0m in \u001b[0;36minner_f\u001b[0;34m(*args, **kwargs)\u001b[0m\n\u001b[1;32m     61\u001b[0m             \u001b[0mextra_args\u001b[0m \u001b[0;34m=\u001b[0m \u001b[0mlen\u001b[0m\u001b[0;34m(\u001b[0m\u001b[0margs\u001b[0m\u001b[0;34m)\u001b[0m \u001b[0;34m-\u001b[0m \u001b[0mlen\u001b[0m\u001b[0;34m(\u001b[0m\u001b[0mall_args\u001b[0m\u001b[0;34m)\u001b[0m\u001b[0;34m\u001b[0m\u001b[0;34m\u001b[0m\u001b[0m\n\u001b[1;32m     62\u001b[0m             \u001b[0;32mif\u001b[0m \u001b[0mextra_args\u001b[0m \u001b[0;34m<=\u001b[0m \u001b[0;36m0\u001b[0m\u001b[0;34m:\u001b[0m\u001b[0;34m\u001b[0m\u001b[0;34m\u001b[0m\u001b[0m\n\u001b[0;32m---> 63\u001b[0;31m                 \u001b[0;32mreturn\u001b[0m \u001b[0mf\u001b[0m\u001b[0;34m(\u001b[0m\u001b[0;34m*\u001b[0m\u001b[0margs\u001b[0m\u001b[0;34m,\u001b[0m \u001b[0;34m**\u001b[0m\u001b[0mkwargs\u001b[0m\u001b[0;34m)\u001b[0m\u001b[0;34m\u001b[0m\u001b[0;34m\u001b[0m\u001b[0m\n\u001b[0m\u001b[1;32m     64\u001b[0m \u001b[0;34m\u001b[0m\u001b[0m\n\u001b[1;32m     65\u001b[0m             \u001b[0;31m# extra_args > 0\u001b[0m\u001b[0;34m\u001b[0m\u001b[0;34m\u001b[0m\u001b[0m\n",
      "\u001b[0;32m~/opt/anaconda3/lib/python3.9/site-packages/sklearn/utils/validation.py\u001b[0m in \u001b[0;36mcheck_array\u001b[0;34m(array, accept_sparse, accept_large_sparse, dtype, order, copy, force_all_finite, ensure_2d, allow_nd, ensure_min_samples, ensure_min_features, estimator)\u001b[0m\n\u001b[1;32m    575\u001b[0m                 )\n\u001b[1;32m    576\u001b[0m \u001b[0;34m\u001b[0m\u001b[0m\n\u001b[0;32m--> 577\u001b[0;31m         \u001b[0mdtypes_orig\u001b[0m \u001b[0;34m=\u001b[0m \u001b[0mlist\u001b[0m\u001b[0;34m(\u001b[0m\u001b[0marray\u001b[0m\u001b[0;34m.\u001b[0m\u001b[0mdtypes\u001b[0m\u001b[0;34m)\u001b[0m\u001b[0;34m\u001b[0m\u001b[0;34m\u001b[0m\u001b[0m\n\u001b[0m\u001b[1;32m    578\u001b[0m         \u001b[0;31m# pandas boolean dtype __array__ interface coerces bools to objects\u001b[0m\u001b[0;34m\u001b[0m\u001b[0;34m\u001b[0m\u001b[0m\n\u001b[1;32m    579\u001b[0m         \u001b[0;32mfor\u001b[0m \u001b[0mi\u001b[0m\u001b[0;34m,\u001b[0m \u001b[0mdtype_iter\u001b[0m \u001b[0;32min\u001b[0m \u001b[0menumerate\u001b[0m\u001b[0;34m(\u001b[0m\u001b[0mdtypes_orig\u001b[0m\u001b[0;34m)\u001b[0m\u001b[0;34m:\u001b[0m\u001b[0;34m\u001b[0m\u001b[0;34m\u001b[0m\u001b[0m\n",
      "\u001b[0;32m~/opt/anaconda3/lib/python3.9/site-packages/pandas/core/generic.py\u001b[0m in \u001b[0;36mdtypes\u001b[0;34m(self)\u001b[0m\n\u001b[1;32m   5657\u001b[0m         \"\"\"\n\u001b[1;32m   5658\u001b[0m         \u001b[0mdata\u001b[0m \u001b[0;34m=\u001b[0m \u001b[0mself\u001b[0m\u001b[0;34m.\u001b[0m\u001b[0m_mgr\u001b[0m\u001b[0;34m.\u001b[0m\u001b[0mget_dtypes\u001b[0m\u001b[0;34m(\u001b[0m\u001b[0;34m)\u001b[0m\u001b[0;34m\u001b[0m\u001b[0;34m\u001b[0m\u001b[0m\n\u001b[0;32m-> 5659\u001b[0;31m         \u001b[0;32mreturn\u001b[0m \u001b[0mself\u001b[0m\u001b[0;34m.\u001b[0m\u001b[0m_constructor_sliced\u001b[0m\u001b[0;34m(\u001b[0m\u001b[0mdata\u001b[0m\u001b[0;34m,\u001b[0m \u001b[0mindex\u001b[0m\u001b[0;34m=\u001b[0m\u001b[0mself\u001b[0m\u001b[0;34m.\u001b[0m\u001b[0m_info_axis\u001b[0m\u001b[0;34m,\u001b[0m \u001b[0mdtype\u001b[0m\u001b[0;34m=\u001b[0m\u001b[0mnp\u001b[0m\u001b[0;34m.\u001b[0m\u001b[0mobject_\u001b[0m\u001b[0;34m)\u001b[0m\u001b[0;34m\u001b[0m\u001b[0;34m\u001b[0m\u001b[0m\n\u001b[0m\u001b[1;32m   5660\u001b[0m \u001b[0;34m\u001b[0m\u001b[0m\n\u001b[1;32m   5661\u001b[0m     def astype(\n",
      "\u001b[0;32m~/opt/anaconda3/lib/python3.9/site-packages/pandas/core/series.py\u001b[0m in \u001b[0;36m__init__\u001b[0;34m(self, data, index, dtype, name, copy, fastpath)\u001b[0m\n\u001b[1;32m    437\u001b[0m                     \u001b[0mdata\u001b[0m \u001b[0;34m=\u001b[0m \u001b[0mdata\u001b[0m\u001b[0;34m.\u001b[0m\u001b[0mcopy\u001b[0m\u001b[0;34m(\u001b[0m\u001b[0;34m)\u001b[0m\u001b[0;34m\u001b[0m\u001b[0;34m\u001b[0m\u001b[0m\n\u001b[1;32m    438\u001b[0m             \u001b[0;32melse\u001b[0m\u001b[0;34m:\u001b[0m\u001b[0;34m\u001b[0m\u001b[0;34m\u001b[0m\u001b[0m\n\u001b[0;32m--> 439\u001b[0;31m                 \u001b[0mdata\u001b[0m \u001b[0;34m=\u001b[0m \u001b[0msanitize_array\u001b[0m\u001b[0;34m(\u001b[0m\u001b[0mdata\u001b[0m\u001b[0;34m,\u001b[0m \u001b[0mindex\u001b[0m\u001b[0;34m,\u001b[0m \u001b[0mdtype\u001b[0m\u001b[0;34m,\u001b[0m \u001b[0mcopy\u001b[0m\u001b[0;34m)\u001b[0m\u001b[0;34m\u001b[0m\u001b[0;34m\u001b[0m\u001b[0m\n\u001b[0m\u001b[1;32m    440\u001b[0m \u001b[0;34m\u001b[0m\u001b[0m\n\u001b[1;32m    441\u001b[0m                 \u001b[0mmanager\u001b[0m \u001b[0;34m=\u001b[0m \u001b[0mget_option\u001b[0m\u001b[0;34m(\u001b[0m\u001b[0;34m\"mode.data_manager\"\u001b[0m\u001b[0;34m)\u001b[0m\u001b[0;34m\u001b[0m\u001b[0;34m\u001b[0m\u001b[0m\n",
      "\u001b[0;32m~/opt/anaconda3/lib/python3.9/site-packages/pandas/core/construction.py\u001b[0m in \u001b[0;36msanitize_array\u001b[0;34m(data, index, dtype, copy, raise_cast_failure, allow_2d)\u001b[0m\n\u001b[1;32m    543\u001b[0m         \u001b[0;32melse\u001b[0m\u001b[0;34m:\u001b[0m\u001b[0;34m\u001b[0m\u001b[0;34m\u001b[0m\u001b[0m\n\u001b[1;32m    544\u001b[0m             \u001b[0;31m# we will try to copy by-definition here\u001b[0m\u001b[0;34m\u001b[0m\u001b[0;34m\u001b[0m\u001b[0m\n\u001b[0;32m--> 545\u001b[0;31m             \u001b[0msubarr\u001b[0m \u001b[0;34m=\u001b[0m \u001b[0m_try_cast\u001b[0m\u001b[0;34m(\u001b[0m\u001b[0mdata\u001b[0m\u001b[0;34m,\u001b[0m \u001b[0mdtype\u001b[0m\u001b[0;34m,\u001b[0m \u001b[0mcopy\u001b[0m\u001b[0;34m,\u001b[0m \u001b[0mraise_cast_failure\u001b[0m\u001b[0;34m)\u001b[0m\u001b[0;34m\u001b[0m\u001b[0;34m\u001b[0m\u001b[0m\n\u001b[0m\u001b[1;32m    546\u001b[0m \u001b[0;34m\u001b[0m\u001b[0m\n\u001b[1;32m    547\u001b[0m     \u001b[0;32melif\u001b[0m \u001b[0misinstance\u001b[0m\u001b[0;34m(\u001b[0m\u001b[0mdata\u001b[0m\u001b[0;34m,\u001b[0m \u001b[0mABCExtensionArray\u001b[0m\u001b[0;34m)\u001b[0m\u001b[0;34m:\u001b[0m\u001b[0;34m\u001b[0m\u001b[0;34m\u001b[0m\u001b[0m\n",
      "\u001b[0;31mKeyboardInterrupt\u001b[0m: "
     ]
    },
    {
     "data": {
      "image/png": "[encoded data removed]",
      "text/plain": [
       "<Figure size 432x288 with 1 Axes>"
      ]
     },
     "metadata": {
      "needs_background": "light"
     },
     "output_type": "display_data"
    }
   ],
   "source": [
    "def get_sigma_scorer(metric, sigma):\n",
    "    def scorer(model, X, y):\n",
    "        n, d = X.shape\n",
    "        y_pred = model.predict(X)\n",
    "        return metric(y_pred, y, n, d, sigma)\n",
    "    \n",
    "    return scorer\n",
    "\n",
    "sigma = estimate_sigma(X_train_pd, y_train)\n",
    "subset_selection(X_train_pd, y_train, X_test_pd, y_test,\n",
    "                 get_evaluator(make_scorer(rss)), np.argmin, # 2.\n",
    "                 get_evaluator(get_sigma_scorer(bic, sigma)), np.argmin, # 3.\n",
    "                 get_evaluator(make_scorer(mean_squared_error)), np.argmin, # test\n",
    "                 candidates_scorer_name=\"RSS\",\n",
    "                 subsets_scorer_name=\"BIC\",\n",
    "                 verbose=True)"
   ]
  },
  {
   "cell_type": "markdown",
   "id": "5df1414a",
   "metadata": {},
   "source": [
    "Same results with sigma score."
   ]
  },
  {
   "cell_type": "markdown",
   "id": "33487815",
   "metadata": {},
   "source": [
    "## Forward Feature Selection"
   ]
  },
  {
   "cell_type": "code",
   "execution_count": null,
   "id": "bf676c0e",
   "metadata": {},
   "outputs": [],
   "source": [
    "def forward_selection(Xtrain_pd, ytrain, Xtest_pd, ytest,\n",
    "                      candidates_evaluator, candidates_argbest, # Metric to be used at 2.b\n",
    "                      subsets_evaluator, subsets_argbest,       # Metric to be used at 3\n",
    "                      test_evaluator=None, test_argbest=None,\n",
    "                      candidates_scorer_name=None,  # Name of 2. figure\n",
    "                      subsets_scorer_name=None,     # Name of 3. figure\n",
    "                      verbose=True, weight_step3=0):   \n",
    "    test_evaluator = subsets_evaluator if not test_evaluator else test_evaluator\n",
    "    test_argbest = subsets_argbest if not test_argbest else test_argbest\n",
    "    \n",
    "    # Global variable init\n",
    "    # ====================\n",
    "    num_features = Xtrain_pd.shape[-1]\n",
    "    best_candidate_metric = []\n",
    "    # subsets_* are lists containing one value for each Mk model (the best of the Mk candidates)\n",
    "    subsets_test = []\n",
    "    subsets_metric = []        # The best metric of each subset of dimension 'dim'\n",
    "    subsets_best_features = [] # The best features combination in each subset of dimension 'dim'\n",
    "    # A figure to keep track of candidates scores in each Mk subset\n",
    "    plt.figure()\n",
    "    candidate_fig = plt.subplot(111) # A global matplotlib figure\n",
    "    num_evaluations = 0        # A conter to keep track of the total number of trials\n",
    "    \n",
    "    selected_features = []  # <------ !! We keep track of selected features !!\n",
    "    all_features = Xtrain_pd.columns\n",
    "    \n",
    "    \n",
    "    # 1. Train M0\n",
    "    # ===========\n",
    "    model = DummyRegressor()\n",
    "    # Compute (2.b) metrics\n",
    "    model, score = candidates_evaluator(model, Xtrain_pd[[]], ytrain)\n",
    "    best_candidate_metric.append(score)\n",
    "    subsets_best_features.append([])\n",
    "    _ = candidate_fig.scatter([0], [score], color=\"b\")\n",
    "    # Compute metric for step 3.\n",
    "    _, score = subsets_evaluator(model, Xtrain_pd[[]], ytrain, trained=True)\n",
    "    subsets_metric.append(score)\n",
    "    _, score = test_evaluator(model, Xtrain_pd[[]], ytrain, trained=True)\n",
    "    subsets_test.append(score)\n",
    "    \n",
    "    # 2. Evaluate all Mk candidates with\n",
    "    #    k=0...p features\n",
    "    # =========================================\n",
    "    # The loop condition is slightly changed\n",
    "    for dim in range(num_features):\n",
    "        candidate_metrics = [] # Keep track of candidates metrics. Will be used to select the best\n",
    "        candidate_models = []  # Keep track of candidates trained models\n",
    "        \n",
    "        # 2.a Given the previous Mk model, test remaining\n",
    "        # features and select the one providing the best\n",
    "        # performance increment\n",
    "        # ===============================================\n",
    "        remaining_features = Xtrain_pd.columns.difference(selected_features)\n",
    "        \n",
    "        for new_column in remaining_features:\n",
    "            Xtrain_sub = Xtrain_pd[selected_features+[new_column]].to_numpy()\n",
    "            model = LinearRegression(fit_intercept=True)\n",
    "            model, score = candidates_evaluator(model, Xtrain_sub, ytrain)\n",
    "            candidate_models.append(model)\n",
    "            candidate_metrics.append(score)\n",
    "            num_evaluations += 1\n",
    "            \n",
    "        _ = candidate_fig.scatter([Xtrain_sub.shape[-1]]*len(candidate_metrics), candidate_metrics,\n",
    "                                  color=\"b\")\n",
    "            \n",
    "        # 2.b Select the best candidate in (2.a)\n",
    "        # ===============================================\n",
    "        idx_best_candidate = candidates_argbest(candidate_metrics)\n",
    "        #!!! Update selected feature\n",
    "        # ==========================\n",
    "        selected_features.append(remaining_features[idx_best_candidate])\n",
    "        # Save best candidate features\n",
    "        best_candidate_metric.append(candidate_metrics[idx_best_candidate])\n",
    "        best_features = selected_features.copy()\n",
    "        subsets_best_features.append(best_features)\n",
    "        \n",
    "        # Compute metric for step 3.\n",
    "        best_subset_model = candidate_models[idx_best_candidate]\n",
    "        best_subset_Xtrain = Xtrain_pd[best_features].to_numpy()\n",
    "        _, score = subsets_evaluator(best_subset_model, best_subset_Xtrain, ytrain, trained=True)\n",
    "        subsets_metric.append(score)\n",
    "        best_subset_Xtest = Xtest_pd[best_features].to_numpy()\n",
    "        _, score = test_evaluator(best_subset_model, best_subset_Xtest, ytest, trained=True)\n",
    "        subsets_test.append(score)\n",
    "        num_evaluations += weight_step3 \n",
    "        \n",
    "        if verbose:\n",
    "            print(\"............\")\n",
    "            print(\"Best model (M{}) with {} features: {}\".format(dim, dim, best_features))\n",
    "            print(\"M{} subset score (3.): {}\".format(dim, score))\n",
    "        \n",
    "    # 3. Among all best candidates with increasing number\n",
    "    #    of features, select the best one\n",
    "    # ===================================================\n",
    "    best_subset_idx = subsets_argbest(subsets_metric)\n",
    "    best_features = subsets_best_features[best_subset_idx]\n",
    "    \n",
    "    if verbose:\n",
    "        print(\"\\n\\nBest configuration has {} features\".format(best_subset_idx))\n",
    "        print(\"Features: {}\".format(subsets_best_features[best_subset_idx]))\n",
    "        print(\"Total number of trained models:\", num_evaluations)\n",
    "    \n",
    "    # Complete the subsets_fig figure by plotting\n",
    "    # a line connecting all best candidate score\n",
    "    best_candidate_score_idx = candidates_argbest(best_candidate_metric)\n",
    "    _ = candidate_fig.plot(range(len(best_candidate_metric)), best_candidate_metric)\n",
    "    _ = candidate_fig.scatter(best_candidate_score_idx, best_candidate_metric[best_candidate_score_idx],\n",
    "                              marker='X', label=\"Best\", color=\"r\")\n",
    "    candidate_fig.set_title(candidates_scorer_name)\n",
    "    candidate_fig.legend()\n",
    "    \n",
    "    # Plot a figure to show how te 3. metric evolves\n",
    "    plt.figure()\n",
    "    subsets_fig = plt.subplot(111)\n",
    "    _ = subsets_fig.plot(range(len(subsets_metric)), subsets_metric, label=\"Selection (3.) scores\")\n",
    "    _ = subsets_fig.scatter(best_subset_idx, subsets_metric[best_subset_idx],\n",
    "                              marker='X', label=\"Best (3.) score\", color=\"r\")\n",
    "    best_test_score_idx = test_argbest(subsets_test)\n",
    "    _ = subsets_fig.plot(range(len(subsets_test)), subsets_test, label=\"Test scores\")\n",
    "    _ = subsets_fig.scatter(best_test_score_idx, subsets_test[best_test_score_idx],\n",
    "                              marker='X', label=\"Best test score\", color=\"y\")\n",
    "    subsets_fig.set_title(subsets_scorer_name)\n",
    "    subsets_fig.legend()\n",
    "    "
   ]
  },
  {
   "cell_type": "code",
   "execution_count": 78,
   "id": "2d13059a",
   "metadata": {},
   "outputs": [
    {
     "name": "stdout",
     "output_type": "stream",
     "text": [
      "............\n",
      "Best model (M0) with 0 features: ['month_sep']\n",
      "M0 subset score (3.): 2.1695235837655993\n",
      "............\n",
      "Best model (M1) with 1 features: ['month_sep', 'month_dec']\n",
      "M1 subset score (3.): 2.1135529919072633\n",
      "............\n",
      "Best model (M2) with 2 features: ['month_sep', 'month_dec', 'month_may']\n",
      "M2 subset score (3.): 2.201858905690957\n",
      "............\n",
      "Best model (M3) with 3 features: ['month_sep', 'month_dec', 'month_may', 'wind']\n",
      "M3 subset score (3.): 2.252983933619714\n",
      "............\n",
      "Best model (M4) with 4 features: ['month_sep', 'month_dec', 'month_may', 'wind', 'X']\n",
      "M4 subset score (3.): 2.251546081058514\n",
      "............\n",
      "Best model (M5) with 5 features: ['month_sep', 'month_dec', 'month_may', 'wind', 'X', 'day_fri']\n",
      "M5 subset score (3.): 2.25785937124135\n",
      "............\n",
      "Best model (M6) with 6 features: ['month_sep', 'month_dec', 'month_may', 'wind', 'X', 'day_fri', 'month_feb']\n",
      "M6 subset score (3.): 2.294879033612628\n",
      "............\n",
      "Best model (M7) with 7 features: ['month_sep', 'month_dec', 'month_may', 'wind', 'X', 'day_fri', 'month_feb', 'temp']\n",
      "M7 subset score (3.): 2.230284144320289\n",
      "............\n",
      "Best model (M8) with 8 features: ['month_sep', 'month_dec', 'month_may', 'wind', 'X', 'day_fri', 'month_feb', 'temp', 'month_apr']\n",
      "M8 subset score (3.): 2.2719334711545596\n",
      "............\n",
      "Best model (M9) with 9 features: ['month_sep', 'month_dec', 'month_may', 'wind', 'X', 'day_fri', 'month_feb', 'temp', 'month_apr', 'RH']\n",
      "M9 subset score (3.): 2.2943830394100733\n",
      "............\n",
      "Best model (M10) with 10 features: ['month_sep', 'month_dec', 'month_may', 'wind', 'X', 'day_fri', 'month_feb', 'temp', 'month_apr', 'RH', 'month_mar']\n",
      "M10 subset score (3.): 2.3232672256400333\n",
      "............\n",
      "Best model (M11) with 11 features: ['month_sep', 'month_dec', 'month_may', 'wind', 'X', 'day_fri', 'month_feb', 'temp', 'month_apr', 'RH', 'month_mar', 'FFMC']\n",
      "M11 subset score (3.): 2.330383640144997\n",
      "............\n",
      "Best model (M12) with 12 features: ['month_sep', 'month_dec', 'month_may', 'wind', 'X', 'day_fri', 'month_feb', 'temp', 'month_apr', 'RH', 'month_mar', 'FFMC', 'day_sat']\n",
      "M12 subset score (3.): 2.3314643375705884\n",
      "............\n",
      "Best model (M13) with 13 features: ['month_sep', 'month_dec', 'month_may', 'wind', 'X', 'day_fri', 'month_feb', 'temp', 'month_apr', 'RH', 'month_mar', 'FFMC', 'day_sat', 'month_jul']\n",
      "M13 subset score (3.): 2.3562006652153\n",
      "............\n",
      "Best model (M14) with 14 features: ['month_sep', 'month_dec', 'month_may', 'wind', 'X', 'day_fri', 'month_feb', 'temp', 'month_apr', 'RH', 'month_mar', 'FFMC', 'day_sat', 'month_jul', 'day_sun']\n",
      "M14 subset score (3.): 2.3701988709679993\n",
      "............\n",
      "Best model (M15) with 15 features: ['month_sep', 'month_dec', 'month_may', 'wind', 'X', 'day_fri', 'month_feb', 'temp', 'month_apr', 'RH', 'month_mar', 'FFMC', 'day_sat', 'month_jul', 'day_sun', 'Y']\n",
      "M15 subset score (3.): 2.3881458460336296\n",
      "............\n",
      "Best model (M16) with 16 features: ['month_sep', 'month_dec', 'month_may', 'wind', 'X', 'day_fri', 'month_feb', 'temp', 'month_apr', 'RH', 'month_mar', 'FFMC', 'day_sat', 'month_jul', 'day_sun', 'Y', 'DC']\n",
      "M16 subset score (3.): 2.3995189841242666\n",
      "............\n",
      "Best model (M17) with 17 features: ['month_sep', 'month_dec', 'month_may', 'wind', 'X', 'day_fri', 'month_feb', 'temp', 'month_apr', 'RH', 'month_mar', 'FFMC', 'day_sat', 'month_jul', 'day_sun', 'Y', 'DC', 'DMC']\n",
      "M17 subset score (3.): 2.3754011928531042\n",
      "............\n",
      "Best model (M18) with 18 features: ['month_sep', 'month_dec', 'month_may', 'wind', 'X', 'day_fri', 'month_feb', 'temp', 'month_apr', 'RH', 'month_mar', 'FFMC', 'day_sat', 'month_jul', 'day_sun', 'Y', 'DC', 'DMC', 'month_jun']\n",
      "M18 subset score (3.): 2.3684586359252844\n",
      "............\n",
      "Best model (M19) with 19 features: ['month_sep', 'month_dec', 'month_may', 'wind', 'X', 'day_fri', 'month_feb', 'temp', 'month_apr', 'RH', 'month_mar', 'FFMC', 'day_sat', 'month_jul', 'day_sun', 'Y', 'DC', 'DMC', 'month_jun', 'month_nov']\n",
      "M19 subset score (3.): 2.3623266784625696\n",
      "............\n",
      "Best model (M20) with 20 features: ['month_sep', 'month_dec', 'month_may', 'wind', 'X', 'day_fri', 'month_feb', 'temp', 'month_apr', 'RH', 'month_mar', 'FFMC', 'day_sat', 'month_jul', 'day_sun', 'Y', 'DC', 'DMC', 'month_jun', 'month_nov', 'ISI']\n",
      "M20 subset score (3.): 2.354868873977744\n",
      "............\n",
      "Best model (M21) with 21 features: ['month_sep', 'month_dec', 'month_may', 'wind', 'X', 'day_fri', 'month_feb', 'temp', 'month_apr', 'RH', 'month_mar', 'FFMC', 'day_sat', 'month_jul', 'day_sun', 'Y', 'DC', 'DMC', 'month_jun', 'month_nov', 'ISI', 'month_jan']\n",
      "M21 subset score (3.): 2.3531890447065984\n",
      "............\n",
      "Best model (M22) with 22 features: ['month_sep', 'month_dec', 'month_may', 'wind', 'X', 'day_fri', 'month_feb', 'temp', 'month_apr', 'RH', 'month_mar', 'FFMC', 'day_sat', 'month_jul', 'day_sun', 'Y', 'DC', 'DMC', 'month_jun', 'month_nov', 'ISI', 'month_jan', 'month_aug']\n",
      "M22 subset score (3.): 2.3432266967557087\n",
      "............\n",
      "Best model (M23) with 23 features: ['month_sep', 'month_dec', 'month_may', 'wind', 'X', 'day_fri', 'month_feb', 'temp', 'month_apr', 'RH', 'month_mar', 'FFMC', 'day_sat', 'month_jul', 'day_sun', 'Y', 'DC', 'DMC', 'month_jun', 'month_nov', 'ISI', 'month_jan', 'month_aug', 'rain']\n",
      "M23 subset score (3.): 2.343613023975009\n",
      "............\n",
      "Best model (M24) with 24 features: ['month_sep', 'month_dec', 'month_may', 'wind', 'X', 'day_fri', 'month_feb', 'temp', 'month_apr', 'RH', 'month_mar', 'FFMC', 'day_sat', 'month_jul', 'day_sun', 'Y', 'DC', 'DMC', 'month_jun', 'month_nov', 'ISI', 'month_jan', 'month_aug', 'rain', 'day_thu']\n",
      "M24 subset score (3.): 2.3394117009560813\n",
      "............\n",
      "Best model (M25) with 25 features: ['month_sep', 'month_dec', 'month_may', 'wind', 'X', 'day_fri', 'month_feb', 'temp', 'month_apr', 'RH', 'month_mar', 'FFMC', 'day_sat', 'month_jul', 'day_sun', 'Y', 'DC', 'DMC', 'month_jun', 'month_nov', 'ISI', 'month_jan', 'month_aug', 'rain', 'day_thu', 'day_tue']\n",
      "M25 subset score (3.): 2.3377626708641497\n",
      "............\n",
      "Best model (M26) with 26 features: ['month_sep', 'month_dec', 'month_may', 'wind', 'X', 'day_fri', 'month_feb', 'temp', 'month_apr', 'RH', 'month_mar', 'FFMC', 'day_sat', 'month_jul', 'day_sun', 'Y', 'DC', 'DMC', 'month_jun', 'month_nov', 'ISI', 'month_jan', 'month_aug', 'rain', 'day_thu', 'day_tue', 'day_mon']\n",
      "M26 subset score (3.): 2.3377163107227834\n",
      "............\n",
      "Best model (M27) with 27 features: ['month_sep', 'month_dec', 'month_may', 'wind', 'X', 'day_fri', 'month_feb', 'temp', 'month_apr', 'RH', 'month_mar', 'FFMC', 'day_sat', 'month_jul', 'day_sun', 'Y', 'DC', 'DMC', 'month_jun', 'month_nov', 'ISI', 'month_jan', 'month_aug', 'rain', 'day_thu', 'day_tue', 'day_mon', 'day_wed']\n",
      "M27 subset score (3.): 2.337716310722758\n",
      "............\n",
      "Best model (M28) with 28 features: ['month_sep', 'month_dec', 'month_may', 'wind', 'X', 'day_fri', 'month_feb', 'temp', 'month_apr', 'RH', 'month_mar', 'FFMC', 'day_sat', 'month_jul', 'day_sun', 'Y', 'DC', 'DMC', 'month_jun', 'month_nov', 'ISI', 'month_jan', 'month_aug', 'rain', 'day_thu', 'day_tue', 'day_mon', 'day_wed', 'month_oct']\n",
      "M28 subset score (3.): 2.3379627763466124\n",
      "\n",
      "\n",
      "Best configuration has 2 features\n",
      "Features: ['month_sep', 'month_dec']\n",
      "Total number of trained models: 435\n"
     ]
    },
    {
     "data": {
      "image/png": "[encoded data removed]",
      "text/plain": [
       "<Figure size 432x288 with 1 Axes>"
      ]
     },
     "metadata": {
      "needs_background": "light"
     },
     "output_type": "display_data"
    },
    {
     "data": {
      "image/png": "[encoded data removed]",
      "text/plain": [
       "<Figure size 432x288 with 1 Axes>"
      ]
     },
     "metadata": {
      "needs_background": "light"
     },
     "output_type": "display_data"
    }
   ],
   "source": [
    "forward_selection(X_train_pd, y_train, X_test_pd, y_test,\n",
    "                  get_evaluator(make_scorer(r2_score)), np.argmax, # 2.\n",
    "                  get_evaluator(get_sigma_scorer(bic, sigma)), np.argmin, # 3.\n",
    "                  get_evaluator(make_scorer(mean_squared_error)), np.argmin, # test\n",
    "                  candidates_scorer_name=\"R^2\",\n",
    "                  subsets_scorer_name=\"BIC\",\n",
    "                  verbose=True)"
   ]
  },
  {
   "cell_type": "markdown",
   "id": "b246d353",
   "metadata": {},
   "source": [
    "Every selection does the same results."
   ]
  },
  {
   "cell_type": "markdown",
   "id": "f8c712a1",
   "metadata": {},
   "source": [
    "### Final thoughts"
   ]
  },
  {
   "cell_type": "markdown",
   "id": "9cb4e302",
   "metadata": {},
   "source": [
    "At the end we cannot find something that is statistically significant, from the data we cannot predict forest fires. I think I do not work enough (and well) on the data before starting the analysis or the data collected does not work well with this type of analysis. Since in the variables there a lot of outliers (and for sure leverage points) one idea is to normalize or try to thin the outliers, because all the output are high skewed. An other idea is to take a look on the interaction terms (effect) since all the weather condition (and FWI parameters) are, in some way, correlated. "
   ]
  }
 ],
 "metadata": {
  "kernelspec": {
   "display_name": "Python 3 (ipykernel)",
   "language": "python",
   "name": "python3"
  },
  "language_info": {
   "codemirror_mode": {
    "name": "ipython",
    "version": 3
   },
   "file_extension": ".py",
   "mimetype": "text/x-python",
   "name": "python",
   "nbconvert_exporter": "python",
   "pygments_lexer": "ipython3",
   "version": "3.9.7"
  }
 },
 "nbformat": 4,
 "nbformat_minor": 5
}
